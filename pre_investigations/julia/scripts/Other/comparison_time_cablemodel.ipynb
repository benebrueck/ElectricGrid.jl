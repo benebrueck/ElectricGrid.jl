{
 "cells": [
  {
   "cell_type": "code",
   "execution_count": null,
   "id": "3d59aa15",
   "metadata": {},
   "outputs": [],
   "source": [
    "using DrWatson\n",
    "@quickactivate \"MicroGridSimWithRL\"\n",
    "include(srcdir(\"nodeconstructor.jl\"))\n",
    "\n",
    "using ControlSystems\n",
    "using JSON\n",
    "using Plots\n",
    "using LinearAlgebra\n",
    "using BenchmarkTools"
   ]
  },
  {
   "cell_type": "code",
   "execution_count": null,
   "id": "63c46991",
   "metadata": {},
   "outputs": [],
   "source": [
    "discrete = false;\n",
    "julia = true;\n",
    "cut_outliers = false;\n",
    "num_cm = 1;\n",
    "num_mat_start = 1; \n",
    "num_mat_end = 30;"
   ]
  },
  {
   "cell_type": "code",
   "execution_count": null,
   "id": "2f661184",
   "metadata": {},
   "outputs": [],
   "source": [
    "ts=1e-8;"
   ]
  },
  {
   "cell_type": "code",
   "execution_count": null,
   "id": "169c36eb",
   "metadata": {},
   "outputs": [],
   "source": [
    "CM = [ 0.  0.  2.\n",
    "       0.  0.  1.\n",
    "      -2. -1.  0.];\n",
    "parameter = Dict{Any, Any}(\"source\" => Any[Dict{Any, Any}(\"L1\" => 0.0023, \"R_C\" => 0.4, \"L2\" => 0.0023, \"C\" => 1.0e-5, \"R1\" => 0.4, \"fltr\" => \"LCL\", \"R2\" => 0.4), Dict{Any, Any}(\"L1\" => 0.0023, \"R_C\" => 0.4, \"C\" => 1.0e-5, \"R1\" => 0.4, \"fltr\" => \"LC\")], \"load\" => Any[Dict{Any, Any}(\"R\" => 14, \"impedance\" => \"R\")], \"cable\" => Any[Dict{Any, Any}(\"C\" => 4.0e-7, \"L\" => 0.000264, \"R\" => 0.722), Dict{Any, Any}(\"C\" => 4.0e-7, \"L\" => 0.000264, \"R\" => 0.722)]);\n"
   ]
  },
  {
   "cell_type": "code",
   "execution_count": null,
   "id": "6de421fd",
   "metadata": {},
   "outputs": [],
   "source": [
    "Grid_FC = NodeConstructor(num_source=2, num_loads=1, CM=CM ,parameters=parameter);\n",
    "A, B, C, D = get_sys(Grid_FC);\n",
    "Ad = exp(A*ts);\n",
    "Bd = A \\ (Ad - C) * B;"
   ]
  },
  {
   "cell_type": "code",
   "execution_count": null,
   "id": "70eab054",
   "metadata": {},
   "outputs": [],
   "source": [
    "t = collect(0:ts:0.01);\n",
    "\n",
    "ns = length(A[1,:]);\n",
    "na = length(B[1,:]);"
   ]
  },
  {
   "cell_type": "code",
   "execution_count": null,
   "id": "5ffc9253",
   "metadata": {},
   "outputs": [],
   "source": [
    "sys_d = StateSpace(Ad, Bd, C, D, ts);"
   ]
  },
  {
   "cell_type": "code",
   "execution_count": null,
   "id": "ab85f19b",
   "metadata": {},
   "outputs": [],
   "source": [
    "\n",
    "x0 = [0.0 for i = 1:ns];\n",
    "# u = rand(Float64, ( length(t) )) .*2 .-1;\n",
    "u = [250.0 for i = 1:length(t)];\n",
    "uu = [u for i = 1:na ];\n",
    "uuu = mapreduce(permutedims, vcat, uu);\n",
    "ttt = t;"
   ]
  },
  {
   "cell_type": "markdown",
   "id": "d31b5b28",
   "metadata": {},
   "source": [
    "### RLC Cable Model"
   ]
  },
  {
   "cell_type": "code",
   "execution_count": null,
   "id": "28c3addb",
   "metadata": {},
   "outputs": [],
   "source": [
    "@benchmark xout, _, _, _ = lsim(sys_d,uuu,ttt,x0=x0)"
   ]
  },
  {
   "cell_type": "code",
   "execution_count": null,
   "id": "be2f99e9",
   "metadata": {},
   "outputs": [],
   "source": []
  },
  {
   "cell_type": "code",
   "execution_count": null,
   "id": "74c2fa93",
   "metadata": {},
   "outputs": [],
   "source": []
  },
  {
   "cell_type": "code",
   "execution_count": null,
   "id": "69444b2b",
   "metadata": {},
   "outputs": [],
   "source": [
    "R_11= parameter[\"source\"][1][\"R1\"]\n",
    "R_22= parameter[\"source\"][1][\"R2\"]\n",
    "R_F1= parameter[\"source\"][1][\"R_C\"]\n",
    "L_11= parameter[\"source\"][1][\"L1\"]\n",
    "L_12= parameter[\"source\"][1][\"L2\"]\n",
    "C_F1= parameter[\"source\"][1][\"C\"]\n",
    "\n",
    "L_21= parameter[\"source\"][2][\"L1\"]\n",
    "R_21= parameter[\"source\"][2][\"R1\"]\n",
    "R_F2= parameter[\"source\"][2][\"R_C\"]\n",
    "C_F2= parameter[\"source\"][2][\"C\"]\n",
    "\n",
    "R_b1= parameter[\"cable\"][1][\"R\"]\n",
    "R_b2= parameter[\"cable\"][2][\"R\"]\n",
    "#R_b3= parameter[\"cable\"][3][\"R\"]\n",
    "\n",
    "R_L= parameter[\"load\"][1][\"R\"]"
   ]
  },
  {
   "cell_type": "code",
   "execution_count": null,
   "id": "0270be39",
   "metadata": {},
   "outputs": [],
   "source": [
    "A_no = zeros(5,5)\n",
    "\n",
    "helpvar= 1 + (R_L+R_b2)*(R_F2)^(-1)\n",
    "A_no[1,1]= -(R_11+R_F1)*(L_11)^(-1)\n",
    "A_no[1,2]= - (L_11)^(-1)\n",
    "A_no[1,3]= (R_F1)*(L_11)^(-1)\n",
    "A_no[2,1]= (C_F1)^(-1)\n",
    "A_no[2,3]= -(C_F1)^(-1)\n",
    "A_no[3,1]= (R_F1)*(L_12)^(-1)\n",
    "A_no[3,2]= (L_12)^(-1)\n",
    "A_no[3,3]= -(R_F1)*(L_12)^(-1)-(R_22+R_b1)*(L_12)^(-1)-R_L*(L_12)^(-1)+(R_L*R_L)*(helpvar*R_F2)^(-1)*(L_12)^(-1)\n",
    "A_no[3,4]= -R_L*(L_12)^(-1) + (R_L)*(R_L+R_b2)*(R_F2*helpvar)^(-1)*(L_12)^(-1)\n",
    "A_no[3,5]= -(R_L)*(helpvar*R_F2)^(-1)*(L_12)^(-1)\n",
    "A_no[4,3]= -(R_L)*(helpvar*L_21)^(-1)\n",
    "A_no[4,4]= (-R_21 -(R_L+R_b2)*(helpvar)^(-1))*(L_21)^(-1)\n",
    "A_no[4,5]= (-1+ helpvar^(-1))*(L_21)^(-1)\n",
    "A_no[5,3]= (R_L*(R_F2*helpvar)^(-1))*(C_F2)^(-1)\n",
    "A_no[5,4]= ((R_L+R_b2)*(R_F2*helpvar)^(-1))*(C_F2)^(-1)\n",
    "A_no[5,5]= -(R_F2*helpvar*C_F2)^(-1)"
   ]
  },
  {
   "cell_type": "code",
   "execution_count": null,
   "id": "5ed5527c",
   "metadata": {},
   "outputs": [],
   "source": [
    "B_no= zeros(5,2);\n",
    "B_no[1,1]= (L_11)^(-1);\n",
    "B_no[4,2]= (L_21)^(-1);"
   ]
  },
  {
   "cell_type": "code",
   "execution_count": null,
   "id": "8335cb9f",
   "metadata": {},
   "outputs": [],
   "source": [
    "C_no = Diagonal(ones(5));\n",
    "D_no = 0;"
   ]
  },
  {
   "cell_type": "code",
   "execution_count": null,
   "id": "b24020e5",
   "metadata": {},
   "outputs": [],
   "source": [
    "Ad_no = exp(A_no*ts);\n",
    "Bd_no = A_no \\ (Ad_no - C_no) * B_no;"
   ]
  },
  {
   "cell_type": "code",
   "execution_count": null,
   "id": "e1d714e3",
   "metadata": {},
   "outputs": [],
   "source": [
    "sys_d_no = StateSpace(Ad_no, Bd_no, C_no, D_no, ts);"
   ]
  },
  {
   "cell_type": "code",
   "execution_count": null,
   "id": "8cf898b6",
   "metadata": {},
   "outputs": [],
   "source": [
    "t_no = collect(0:ts:0.1);\n",
    "\n",
    "ns_no = length(A_no[1,:]);\n",
    "na_no = length(B_no[1,:]);"
   ]
  },
  {
   "cell_type": "code",
   "execution_count": null,
   "id": "1ca2eb00",
   "metadata": {
    "scrolled": true
   },
   "outputs": [],
   "source": [
    "x0_no = [0.0 for i = 1:ns_no]\n",
    "#global u = rand(Float64, ( length(t) )) .*2 .-1\n",
    "u_no = [250.0 for i = 1:length(t_no)]\n",
    "uu_no = [u_no for i = 1:na_no ]\n",
    "uuu_no = mapreduce(permutedims, vcat, uu_no)\n",
    "ttt_no = t_no;"
   ]
  },
  {
   "cell_type": "markdown",
   "id": "b09f039c",
   "metadata": {},
   "source": [
    "### R Cable Model"
   ]
  },
  {
   "cell_type": "code",
   "execution_count": null,
   "id": "18b90a46",
   "metadata": {},
   "outputs": [],
   "source": [
    "@benchmark xout_no, _, _, _ = lsim(sys_d_no,uuu_no,ttt_no,x0=x0_no)"
   ]
  },
  {
   "cell_type": "code",
   "execution_count": null,
   "id": "7a4668ec",
   "metadata": {},
   "outputs": [],
   "source": []
  }
 ],
 "metadata": {
  "kernelspec": {
   "display_name": "Julia 1.7.2",
   "language": "julia",
   "name": "julia-1.7"
  },
  "language_info": {
   "file_extension": ".jl",
   "mimetype": "application/julia",
   "name": "julia",
   "version": "1.7.2"
  }
 },
 "nbformat": 4,
 "nbformat_minor": 5
}
