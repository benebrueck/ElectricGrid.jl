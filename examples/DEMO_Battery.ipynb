{
 "cells": [
  {
   "cell_type": "code",
   "execution_count": 1,
   "id": "fede0880",
   "metadata": {},
   "outputs": [],
   "source": [
    "using DrWatson\n",
    "@quickactivate \"dare\"\n",
    "\n",
    "using ReinforcementLearning\n",
    "using IntervalSets\n",
    "using LinearAlgebra\n",
    "using ControlSystems\n",
    "using CUDA\n",
    "using DataFrames\n",
    "using Plots\n",
    "using Interpolations\n",
    "\n",
    "\n",
    "include(srcdir(\"nodeconstructor.jl\"))\n",
    "include(srcdir(\"LookupTables.jl\"))\n",
    "include(srcdir(\"env.jl\"));\n",
    "\n",
    "using .LookupTables"
   ]
  },
  {
   "cell_type": "code",
   "execution_count": 2,
   "id": "9407981b",
   "metadata": {},
   "outputs": [],
   "source": [
    "Base.@kwdef mutable struct battery_module\n",
    "     R = [0.010342 0.0012244;\n",
    "        0.0067316 0.0011396;\n",
    "        0.0051156 0.0012661;\n",
    "        0.0043447 0.0012265;\n",
    "        0.0038826 0.0011163;\n",
    "        0.0034226 0.0009968;\n",
    "        0.003346 0.0011458;\n",
    "        0.0033222 0.001345;\n",
    "        0.0033201 0.0013091;\n",
    "        0.0032886 0.0010986;\n",
    "        0.0028114 0.0010309]     # Resistance for n-th RC pair\n",
    "    C = [2287.7 11897;\n",
    "        6122 24515;\n",
    "        18460 42098;\n",
    "        20975 44453;\n",
    "        15254 33098;\n",
    "        10440 24492;\n",
    "        13903 32975;\n",
    "        16694 40007;\n",
    "        15784 35937;\n",
    "        12165 26430;\n",
    "        9118 24795]   # Capacitance for n-th RC pair\n",
    "end;"
   ]
  },
  {
   "cell_type": "code",
   "execution_count": 3,
   "id": "719b2c57",
   "metadata": {},
   "outputs": [],
   "source": [
    "Base.@kwdef mutable struct battery_block\n",
    "    battery_module::battery_module\n",
    "    n = 3                      # number of RC pairs\n",
    "    R_0 = 0.016                  # series resistance\n",
    "    V_0 = [3.5042 3.5136;\n",
    "        3.5573 3.5646;\n",
    "        3.6009 3.6153;\n",
    "        3.6393 3.6565;\n",
    "        3.6742 3.6889;\n",
    "        3.7121 3.7214;\n",
    "        3.7937 3.8078;\n",
    "        3.8753 3.8945;\n",
    "        3.97 3.9859;\n",
    "        4.0764 4.0821;\n",
    "        4.1924 4.193]                  # Battery open-circuit voltage\n",
    "    Q = 0                      # Current Ladung\n",
    "    Q_0 = 26*3600              # Nominal Ladung\n",
    "    SOC = 0                    # State of Charge (SOC)\n",
    "    SOC_BP = vec([0 0.1 0.2 0.3 0.4 0.5 0.6 0.7 0.8 0.9 1])\n",
    "    T_BP = vec([293.15 313.15])\n",
    "    tau = 1 #0.1e-3\n",
    "    mode = nothing\n",
    "    V = 0\n",
    "    V1 = 0\n",
    "    LT_V0 = LookupTable2d(SOC_BP,T_BP,V_0)\n",
    "    LT_R = LookupTable2d(SOC_BP,T_BP,battery_module.R)\n",
    "    \n",
    "end;"
   ]
  },
  {
   "cell_type": "code",
   "execution_count": 4,
   "id": "2bdc0ed3",
   "metadata": {},
   "outputs": [
    {
     "data": {
      "text/plain": [
       "update (generic function with 1 method)"
      ]
     },
     "execution_count": 4,
     "metadata": {},
     "output_type": "execute_result"
    }
   ],
   "source": [
    "function update(self::battery_block, I_batt)\n",
    "    \n",
    "    T=293.15 + 10\n",
    "    \n",
    "    if sign(I_batt) == -1\n",
    "        self.mode = \"charge\"\n",
    "    else\n",
    "        self.mode = \"discharge\"\n",
    "    end\n",
    "    \n",
    "    self.Q = clamp(self.Q -I_batt*self.tau,0,self.Q_0)\n",
    "        \n",
    "    self.SOC = clamp(self.Q/self.Q_0,0,1)\n",
    "    \n",
    "    SOC_round = round(self.SOC;digits = 1)\n",
    "    \n",
    "    idx_soc = findall(x->x==SOC_round, self.SOC_BP)[1]\n",
    "    \n",
    "    idx_t = 1\n",
    "    \n",
    "    self.V = self.V_0[idx_soc, idx_t] - self.n * self.battery_module.R[idx_soc,idx_t] * I_batt - self.R_0 * I_batt\n",
    "    \n",
    "    self.V1 = lookup(self.SOC,T,self.LT_V0) - self.n * lookup(self.SOC,T,self.LT_R) * I_batt - self.R_0 * I_batt\n",
    "    \n",
    "end"
   ]
  },
  {
   "cell_type": "code",
   "execution_count": 5,
   "id": "ce6fbaae",
   "metadata": {},
   "outputs": [],
   "source": [
    "Cell = battery_module();"
   ]
  },
  {
   "cell_type": "code",
   "execution_count": 6,
   "id": "078b5ac2",
   "metadata": {},
   "outputs": [],
   "source": [
    "Battery = battery_block(battery_module=Cell);"
   ]
  },
  {
   "cell_type": "code",
   "execution_count": 8,
   "id": "b50686f2",
   "metadata": {
    "scrolled": true
   },
   "outputs": [
    {
     "name": "stdout",
     "output_type": "stream",
     "text": [
      "Mode: charge\n",
      "State of Charge 0.02564102564102564\n",
      "Output Voltage 22.3146\n",
      "Output Voltage 16.293593846153847\n",
      "Mode: charge\n",
      "State of Charge 0.029914529914529916\n",
      "Output Voltage 22.3146\n",
      "Output Voltage 16.20106948717949\n",
      "Mode: charge\n",
      "State of Charge 0.03418803418803419\n",
      "Output Voltage 22.3146\n",
      "Output Voltage 16.10854512820513\n",
      "Mode: charge\n",
      "State of Charge 0.038461538461538464\n",
      "Output Voltage 22.3146\n",
      "Output Voltage 16.01602076923077\n",
      "Mode: charge\n",
      "State of Charge 0.042735042735042736\n",
      "Output Voltage 22.3146\n",
      "Output Voltage 15.92349641025641\n",
      "Mode: charge\n",
      "State of Charge 0.04700854700854701\n",
      "Output Voltage 22.3146\n",
      "Output Voltage 15.830972051282052\n",
      "Mode: charge\n",
      "State of Charge 0.05128205128205128\n",
      "Output Voltage 18.03522\n",
      "Output Voltage 15.738447692307693\n",
      "Mode: charge\n",
      "State of Charge 0.05555555555555555\n",
      "Output Voltage 18.03522\n",
      "Output Voltage 15.645923333333334\n",
      "Mode: charge\n",
      "State of Charge 0.05982905982905983\n",
      "Output Voltage 18.03522\n",
      "Output Voltage 15.553398974358975\n",
      "Mode: charge\n",
      "State of Charge 0.0641025641025641\n",
      "Output Voltage 18.03522\n",
      "Output Voltage 15.460874615384617\n"
     ]
    }
   ],
   "source": [
    "for i in 1:10\n",
    "    update(Battery, -400.0)\n",
    "    \n",
    "    println(\"Mode: $(Battery.mode)\")\n",
    "    println(\"State of Charge $(Battery.SOC)\")\n",
    "    println(\"Output Voltage $(Battery.V)\")\n",
    "    println(\"Output Voltage $(Battery.V1)\")\n",
    "end"
   ]
  },
  {
   "cell_type": "code",
   "execution_count": null,
   "id": "37a977ad",
   "metadata": {},
   "outputs": [],
   "source": []
  },
  {
   "cell_type": "code",
   "execution_count": null,
   "id": "b5ae02ec",
   "metadata": {},
   "outputs": [],
   "source": []
  }
 ],
 "metadata": {
  "kernelspec": {
   "display_name": "Julia 1.7.2",
   "language": "julia",
   "name": "julia-1.7"
  },
  "language_info": {
   "file_extension": ".jl",
   "mimetype": "application/julia",
   "name": "julia",
   "version": "1.7.2"
  }
 },
 "nbformat": 4,
 "nbformat_minor": 5
}
