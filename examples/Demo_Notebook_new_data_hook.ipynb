{
 "cells": [
  {
   "cell_type": "code",
   "execution_count": 45,
   "id": "285d8354",
   "metadata": {},
   "outputs": [],
   "source": [
    "using DrWatson\n",
    "@quickactivate \"dare\"\n",
    "\n",
    "using ReinforcementLearning\n",
    "using IntervalSets\n",
    "using LinearAlgebra\n",
    "using ControlSystems\n",
    "using CUDA\n",
    "using DataStructures\n",
    "using DataFrames\n",
    "using PlotlyJS\n",
    "\n",
    "include(srcdir(\"nodeconstructor.jl\"))\n",
    "include(srcdir(\"data_hook.jl\"))\n",
    "include(srcdir(\"env.jl\"))\n",
    "include(srcdir(\"sin_policy.jl\"))\n",
    "include(srcdir(\"plotting.jl\"))\n",
    "include(srcdir(\"custom_control.jl\"));"
   ]
  },
  {
   "cell_type": "markdown",
   "id": "f9ef46dd",
   "metadata": {},
   "source": [
    "### Define CM Matrix"
   ]
  },
  {
   "cell_type": "code",
   "execution_count": 46,
   "id": "0cddbe8b",
   "metadata": {
    "scrolled": true
   },
   "outputs": [
    {
     "data": {
      "text/plain": [
       "10×10 Matrix{Float64}:\n",
       "  0.0   1.0    0.0    0.0    2.0    3.0    4.0    5.0   6.0   7.0\n",
       " -1.0   0.0    0.0    0.0    0.0    8.0    0.0    0.0   0.0   9.0\n",
       "  0.0   0.0    0.0    0.0   10.0   11.0   12.0   13.0   0.0  14.0\n",
       "  0.0   0.0    0.0    0.0   15.0   16.0   17.0    0.0  18.0  19.0\n",
       " -2.0   0.0  -10.0  -15.0    0.0   20.0    0.0   21.0  22.0   0.0\n",
       " -3.0  -8.0  -11.0  -16.0  -20.0    0.0   23.0   24.0  25.0  26.0\n",
       " -4.0   0.0  -12.0  -17.0    0.0  -23.0    0.0   27.0  28.0  29.0\n",
       " -5.0   0.0  -13.0    0.0  -21.0  -24.0  -27.0    0.0   0.0  30.0\n",
       " -6.0   0.0    0.0  -18.0  -22.0  -25.0  -28.0    0.0   0.0   0.0\n",
       " -7.0  -9.0  -14.0  -19.0    0.0  -26.0  -29.0  -30.0   0.0   0.0"
      ]
     },
     "execution_count": 46,
     "metadata": {},
     "output_type": "execute_result"
    }
   ],
   "source": [
    "CM = [0.0   1.0    0.0    0.0    2.0    3.0    4.0    5.0   6.0   7.0\n",
    "     -1.0   0.0    0.0    0.0    0.0    8.0    0.0    0.0   0.0   9.0\n",
    "      0.0   0.0    0.0    0.0   10.0   11.0   12.0   13.0   0.0  14.0\n",
    "      0.0   0.0    0.0    0.0   15.0   16.0   17.0    0.0  18.0  19.0\n",
    "     -2.0   0.0  -10.0  -15.0    0.0   20.0    0.0   21.0  22.0   0.0\n",
    "     -3.0  -8.0  -11.0  -16.0  -20.0    0.0   23.0   24.0  25.0  26.0\n",
    "     -4.0   0.0  -12.0  -17.0    0.0  -23.0    0.0   27.0  28.0  29.0\n",
    "     -5.0   0.0  -13.0    0.0  -21.0  -24.0  -27.0    0.0   0.0  30.0\n",
    "     -6.0   0.0    0.0  -18.0  -22.0  -25.0  -28.0    0.0   0.0   0.0\n",
    "     -7.0  -9.0  -14.0  -19.0    0.0  -26.0  -29.0  -30.0   0.0   0.0]\n",
    "\n"
   ]
  },
  {
   "cell_type": "markdown",
   "id": "fd1653d1",
   "metadata": {},
   "source": [
    "### Create the environment and thus the Nodeconstructor with the CM Matrix"
   ]
  },
  {
   "cell_type": "code",
   "execution_count": 47,
   "id": "0cf03e4d",
   "metadata": {
    "scrolled": false
   },
   "outputs": [
    {
     "name": "stdout",
     "output_type": "stream",
     "text": [
      "INFO: v_dc = 350V will get applied to all actions\n",
      "INFO: Generating standard norm_array from nodeconstructor\n",
      "WARNING: limits set to fixed value - define in nc.parameters\n"
     ]
    },
    {
     "data": {
      "text/markdown": [
       "# SimEnv\n",
       "\n",
       "## Traits\n",
       "\n",
       "| Trait Type        |                  Value |\n",
       "|:----------------- | ----------------------:|\n",
       "| NumAgentStyle     |          SingleAgent() |\n",
       "| DynamicStyle      |           Sequential() |\n",
       "| InformationStyle  | ImperfectInformation() |\n",
       "| ChanceStyle       |           Stochastic() |\n",
       "| RewardStyle       |           StepReward() |\n",
       "| UtilityStyle      |           GeneralSum() |\n",
       "| ActionStyle       |     MinimalActionSet() |\n",
       "| StateStyle        |     Observation{Any}() |\n",
       "| DefaultStateStyle |     Observation{Any}() |\n",
       "\n",
       "## Is Environment Terminated?\n",
       "\n",
       "No\n",
       "\n",
       "## State Space\n",
       "\n",
       "`Space{Vector{ClosedInterval{Float64}}}(ClosedInterval{Float64}[-1.0..1.0, -1.0..1.0, -1.0..1.0, -1.0..1.0, -1.0..1.0, -1.0..1.0, -1.0..1.0, -1.0..1.0, -1.0..1.0, -1.0..1.0, -1.0..1.0, -1.0..1.0, -1.0..1.0, -1.0..1.0, -1.0..1.0, -1.0..1.0, -1.0..1.0, -1.0..1.0, -1.0..1.0, -1.0..1.0, -1.0..1.0, -1.0..1.0, -1.0..1.0, -1.0..1.0, -1.0..1.0, -1.0..1.0, -1.0..1.0, -1.0..1.0, -1.0..1.0, -1.0..1.0, -1.0..1.0, -1.0..1.0, -1.0..1.0, -1.0..1.0, -1.0..1.0, -1.0..1.0, -1.0..1.0, -1.0..1.0, -1.0..1.0, -1.0..1.0, -1.0..1.0, -1.0..1.0, -1.0..1.0, -1.0..1.0, -1.0..1.0, -1.0..1.0, -1.0..1.0, -1.0..1.0, -1.0..1.0, -1.0..1.0, -1.0..1.0, -1.0..1.0, -1.0..1.0, -1.0..1.0, -1.0..1.0, -1.0..1.0, -1.0..1.0, -1.0..1.0, -1.0..1.0, -1.0..1.0, -1.0..1.0, -1.0..1.0, -1.0..1.0, -1.0..1.0, -1.0..1.0, -1.0..1.0, -1.0..1.0, -1.0..1.0, -1.0..1.0, -1.0..1.0, -1.0..1.0, -1.0..1.0, -1.0..1.0, -1.0..1.0, -1.0..1.0, -1.0..1.0, -1.0..1.0, -1.0..1.0, -1.0..1.0, -1.0..1.0, -1.0..1.0, -1.0..1.0, -1.0..1.0, -1.0..1.0, -1.0..1.0, -1.0..1.0, -1.0..1.0, -1.0..1.0, -1.0..1.0, -1.0..1.0, -1.0..1.0, -1.0..1.0, -1.0..1.0, -1.0..1.0, -1.0..1.0, -1.0..1.0, -1.0..1.0, -1.0..1.0, -1.0..1.0, -1.0..1.0, -1.0..1.0, -1.0..1.0, -1.0..1.0, -1.0..1.0, -1.0..1.0, -1.0..1.0, -1.0..1.0, -1.0..1.0, -1.0..1.0, -1.0..1.0, -1.0..1.0, -1.0..1.0, -1.0..1.0, -1.0..1.0, -1.0..1.0, -1.0..1.0, -1.0..1.0, -1.0..1.0, -1.0..1.0, -1.0..1.0, -1.0..1.0, -1.0..1.0, -1.0..1.0, -1.0..1.0, -1.0..1.0, -1.0..1.0, -1.0..1.0, -1.0..1.0, -1.0..1.0, -1.0..1.0, -1.0..1.0, -1.0..1.0, -1.0..1.0, -1.0..1.0, -1.0..1.0, -1.0..1.0, -1.0..1.0, -1.0..1.0, -1.0..1.0, -1.0..1.0, -1.0..1.0, -1.0..1.0, -1.0..1.0, -1.0..1.0, -1.0..1.0, -1.0..1.0, -1.0..1.0, -1.0..1.0, -1.0..1.0, -1.0..1.0, -1.0..1.0, -1.0..1.0, -1.0..1.0, -1.0..1.0, -1.0..1.0, -1.0..1.0, -1.0..1.0, -1.0..1.0, -1.0..1.0, -1.0..1.0, -1.0..1.0, -1.0..1.0, -1.0..1.0, -1.0..1.0, -1.0..1.0, -1.0..1.0, -1.0..1.0, -1.0..1.0, -1.0..1.0, -1.0..1.0, -1.0..1.0, -1.0..1.0, -1.0..1.0, -1.0..1.0])`\n",
       "\n",
       "## Action Space\n",
       "\n",
       "`Space{Vector{ClosedInterval{Float64}}}(ClosedInterval{Float64}[-1.0..1.0, -1.0..1.0, -1.0..1.0, -1.0..1.0, -1.0..1.0, -1.0..1.0, -1.0..1.0, -1.0..1.0, -1.0..1.0, -1.0..1.0, -1.0..1.0, -1.0..1.0, -1.0..1.0, -1.0..1.0, -1.0..1.0])`\n",
       "\n",
       "## Current State\n",
       "\n",
       "```\n",
       "[0.0, 0.0, 0.0, 0.0, 0.0, 0.0, 0.0, 0.0, 0.0, 0.0, 0.0, 0.0, 0.0, 0.0, 0.0, 0.0, 0.0, 0.0, 0.0, 0.0, 0.0, 0.0, 0.0, 0.0, 0.0, 0.0, 0.0, 0.0, 0.0, 0.0, 0.0, 0.0, 0.0, 0.0, 0.0, 0.0, 0.0, 0.0, 0.0, 0.0, 0.0, 0.0, 0.0, 0.0, 0.0, 0.0, 0.0, 0.0, 0.0, 0.0, 0.0, 0.0, 0.0, 0.0, 0.0, 0.0, 0.0, 0.0, 0.0, 0.0, 0.0, 0.0, 0.0, 0.0, 0.0, 0.0, 0.0, 0.0, 0.0, 0.0, 0.0, 0.0, 0.0, 0.0, 0.0, 0.0, 0.0, 0.0, 0.0, 0.0, 0.0, 0.0, 0.0, 0.0, 0.0, 0.0, 0.0, 0.0, 0.0, 0.0, 0.0, 0.0, 0.0, 0.0, 0.0, 0.0, 0.0, 0.0, 0.0, 0.0, 0.0, 0.0, 0.0, 0.0, 0.0, 0.0, 0.0, 0.0, 0.0, 0.0, 0.0, 0.0, 0.0, 0.0, 0.0, 0.0, 0.0, 0.0, 0.0, 0.0, 0.0, 0.0, 0.0, 0.0, 0.0, 0.0, 0.0, 0.0, 0.0, 0.0, 0.0, 0.0, 0.0, 0.0, 0.0, 0.0, 0.0, 0.0, 0.0, 0.0, 0.0, 0.0, 0.0, 0.0, 0.0, 0.0, 0.0, 0.0, 0.0, 0.0, 0.0, 0.0, 0.0, 0.0, 0.0, 0.0, 0.0, 0.0, 0.0, 0.0, 0.0, 0.0, 0.0, 0.0, 0.0, 0.0, 0.0, 0.0, 0.0, 0.0, 0.0, 0.0, 0.0, 0.0]\n",
       "```\n"
      ],
      "text/plain": [
       "# SimEnv\n",
       "\n",
       "## Traits\n",
       "\n",
       "| Trait Type        |                  Value |\n",
       "|:----------------- | ----------------------:|\n",
       "| NumAgentStyle     |          SingleAgent() |\n",
       "| DynamicStyle      |           Sequential() |\n",
       "| InformationStyle  | ImperfectInformation() |\n",
       "| ChanceStyle       |           Stochastic() |\n",
       "| RewardStyle       |           StepReward() |\n",
       "| UtilityStyle      |           GeneralSum() |\n",
       "| ActionStyle       |     MinimalActionSet() |\n",
       "| StateStyle        |     Observation{Any}() |\n",
       "| DefaultStateStyle |     Observation{Any}() |\n",
       "\n",
       "## Is Environment Terminated?\n",
       "\n",
       "No\n",
       "\n",
       "## State Space\n",
       "\n",
       "`Space{Vector{ClosedInterval{Float64}}}(ClosedInterval{Float64}[-1.0..1.0, -1.0..1.0, -1.0..1.0, -1.0..1.0, -1.0..1.0, -1.0..1.0, -1.0..1.0, -1.0..1.0, -1.0..1.0, -1.0..1.0, -1.0..1.0, -1.0..1.0, -1.0..1.0, -1.0..1.0, -1.0..1.0, -1.0..1.0, -1.0..1.0, -1.0..1.0, -1.0..1.0, -1.0..1.0, -1.0..1.0, -1.0..1.0, -1.0..1.0, -1.0..1.0, -1.0..1.0, -1.0..1.0, -1.0..1.0, -1.0..1.0, -1.0..1.0, -1.0..1.0, -1.0..1.0, -1.0..1.0, -1.0..1.0, -1.0..1.0, -1.0..1.0, -1.0..1.0, -1.0..1.0, -1.0..1.0, -1.0..1.0, -1.0..1.0, -1.0..1.0, -1.0..1.0, -1.0..1.0, -1.0..1.0, -1.0..1.0, -1.0..1.0, -1.0..1.0, -1.0..1.0, -1.0..1.0, -1.0..1.0, -1.0..1.0, -1.0..1.0, -1.0..1.0, -1.0..1.0, -1.0..1.0, -1.0..1.0, -1.0..1.0, -1.0..1.0, -1.0..1.0, -1.0..1.0, -1.0..1.0, -1.0..1.0, -1.0..1.0, -1.0..1.0, -1.0..1.0, -1.0..1.0, -1.0..1.0, -1.0..1.0, -1.0..1.0, -1.0..1.0, -1.0..1.0, -1.0..1.0, -1.0..1.0, -1.0..1.0, -1.0..1.0, -1.0..1.0, -1.0..1.0, -1.0..1.0, -1.0..1.0, -1.0..1.0, -1.0..1.0, -1.0..1.0, -1.0..1.0, -1.0..1.0, -1.0..1.0, -1.0..1.0, -1.0..1.0, -1.0..1.0, -1.0..1.0, -1.0..1.0, -1.0..1.0, -1.0..1.0, -1.0..1.0, -1.0..1.0, -1.0..1.0, -1.0..1.0, -1.0..1.0, -1.0..1.0, -1.0..1.0, -1.0..1.0, -1.0..1.0, -1.0..1.0, -1.0..1.0, -1.0..1.0, -1.0..1.0, -1.0..1.0, -1.0..1.0, -1.0..1.0, -1.0..1.0, -1.0..1.0, -1.0..1.0, -1.0..1.0, -1.0..1.0, -1.0..1.0, -1.0..1.0, -1.0..1.0, -1.0..1.0, -1.0..1.0, -1.0..1.0, -1.0..1.0, -1.0..1.0, -1.0..1.0, -1.0..1.0, -1.0..1.0, -1.0..1.0, -1.0..1.0, -1.0..1.0, -1.0..1.0, -1.0..1.0, -1.0..1.0, -1.0..1.0, -1.0..1.0, -1.0..1.0, -1.0..1.0, -1.0..1.0, -1.0..1.0, -1.0..1.0, -1.0..1.0, -1.0..1.0, -1.0..1.0, -1.0..1.0, -1.0..1.0, -1.0..1.0, -1.0..1.0, -1.0..1.0, -1.0..1.0, -1.0..1.0, -1.0..1.0, -1.0..1.0, -1.0..1.0, -1.0..1.0, -1.0..1.0, -1.0..1.0, -1.0..1.0, -1.0..1.0, -1.0..1.0, -1.0..1.0, -1.0..1.0, -1.0..1.0, -1.0..1.0, -1.0..1.0, -1.0..1.0, -1.0..1.0, -1.0..1.0, -1.0..1.0, -1.0..1.0, -1.0..1.0, -1.0..1.0, -1.0..1.0, -1.0..1.0, -1.0..1.0, -1.0..1.0, -1.0..1.0, -1.0..1.0])`\n",
       "\n",
       "## Action Space\n",
       "\n",
       "`Space{Vector{ClosedInterval{Float64}}}(ClosedInterval{Float64}[-1.0..1.0, -1.0..1.0, -1.0..1.0, -1.0..1.0, -1.0..1.0, -1.0..1.0, -1.0..1.0, -1.0..1.0, -1.0..1.0, -1.0..1.0, -1.0..1.0, -1.0..1.0, -1.0..1.0, -1.0..1.0, -1.0..1.0])`\n",
       "\n",
       "## Current State\n",
       "\n",
       "```\n",
       "[0.0, 0.0, 0.0, 0.0, 0.0, 0.0, 0.0, 0.0, 0.0, 0.0, 0.0, 0.0, 0.0, 0.0, 0.0, 0.0, 0.0, 0.0, 0.0, 0.0, 0.0, 0.0, 0.0, 0.0, 0.0, 0.0, 0.0, 0.0, 0.0, 0.0, 0.0, 0.0, 0.0, 0.0, 0.0, 0.0, 0.0, 0.0, 0.0, 0.0, 0.0, 0.0, 0.0, 0.0, 0.0, 0.0, 0.0, 0.0, 0.0, 0.0, 0.0, 0.0, 0.0, 0.0, 0.0, 0.0, 0.0, 0.0, 0.0, 0.0, 0.0, 0.0, 0.0, 0.0, 0.0, 0.0, 0.0, 0.0, 0.0, 0.0, 0.0, 0.0, 0.0, 0.0, 0.0, 0.0, 0.0, 0.0, 0.0, 0.0, 0.0, 0.0, 0.0, 0.0, 0.0, 0.0, 0.0, 0.0, 0.0, 0.0, 0.0, 0.0, 0.0, 0.0, 0.0, 0.0, 0.0, 0.0, 0.0, 0.0, 0.0, 0.0, 0.0, 0.0, 0.0, 0.0, 0.0, 0.0, 0.0, 0.0, 0.0, 0.0, 0.0, 0.0, 0.0, 0.0, 0.0, 0.0, 0.0, 0.0, 0.0, 0.0, 0.0, 0.0, 0.0, 0.0, 0.0, 0.0, 0.0, 0.0, 0.0, 0.0, 0.0, 0.0, 0.0, 0.0, 0.0, 0.0, 0.0, 0.0, 0.0, 0.0, 0.0, 0.0, 0.0, 0.0, 0.0, 0.0, 0.0, 0.0, 0.0, 0.0, 0.0, 0.0, 0.0, 0.0, 0.0, 0.0, 0.0, 0.0, 0.0, 0.0, 0.0, 0.0, 0.0, 0.0, 0.0, 0.0, 0.0, 0.0, 0.0, 0.0, 0.0, 0.0]\n",
       "```\n"
      ]
     },
     "execution_count": 47,
     "metadata": {},
     "output_type": "execute_result"
    }
   ],
   "source": [
    "env = SimEnv(num_sources=5, num_loads=5,CM=CM)"
   ]
  },
  {
   "cell_type": "markdown",
   "id": "8456c287",
   "metadata": {},
   "source": [
    "### Define Policy"
   ]
  },
  {
   "cell_type": "code",
   "execution_count": 48,
   "id": "30e36dd5",
   "metadata": {
    "scrolled": true
   },
   "outputs": [
    {
     "data": {
      "text/plain": [
       "typename(RandomPolicy)\n",
       "├─ action_space => typename(Space)\n",
       "│  └─ s => 15-element Vector{ClosedInterval{Float64}}\n",
       "└─ rng => typename(Random._GLOBAL_RNG)\n"
      ]
     },
     "execution_count": 48,
     "metadata": {},
     "output_type": "execute_result"
    }
   ],
   "source": [
    "policy = RandomPolicy(action_space(env))\n",
    "#policy = sin_policy()"
   ]
  },
  {
   "cell_type": "markdown",
   "id": "ba84fbb8",
   "metadata": {},
   "source": [
    "### Create Hook:\n",
    "#### 2 Options:\n",
    "   - pass the states to be stored to \"collect_state_ids\"\n",
    "       - need to know the exact Name of the states in the Nodeconstructor\n",
    "       - only states at L and C \n",
    "   - hand in the ID(Number) of Sources, Loads and Cables which states shall be stored\n",
    "       - computes Voltage and Current at all R, L and C"
   ]
  },
  {
   "cell_type": "code",
   "execution_count": 49,
   "id": "47ac1952",
   "metadata": {},
   "outputs": [
    {
     "data": {
      "text/plain": [
       "15-element Vector{String}:\n",
       " \"source1_u_a\"\n",
       " \"source2_u_a\"\n",
       " \"source3_u_a\"\n",
       " \"source4_u_a\"\n",
       " \"source5_u_a\"\n",
       " \"source1_u_b\"\n",
       " \"source2_u_b\"\n",
       " \"source3_u_b\"\n",
       " \"source4_u_b\"\n",
       " \"source5_u_b\"\n",
       " \"source1_u_c\"\n",
       " \"source2_u_c\"\n",
       " \"source3_u_c\"\n",
       " \"source4_u_c\"\n",
       " \"source5_u_c\""
      ]
     },
     "execution_count": 49,
     "metadata": {},
     "output_type": "execute_result"
    }
   ],
   "source": [
    "env.action_ids"
   ]
  },
  {
   "cell_type": "code",
   "execution_count": 50,
   "id": "2d66f02f",
   "metadata": {
    "scrolled": true
   },
   "outputs": [
    {
     "data": {
      "text/plain": [
       "DataHook(false, \"episode_data/\", nothing, nothing, Any[0.0012582110669914284, 2.025090858127555e-5, 0.0012582110669914284, 9.260887466775631e-6, 0.0007175106173461386, 3.384504881313394e-5, 0.0007175106173461386, 4.0311700685012376e-6, 0.0012066027454164375, 2.0156042763641025e-5  …  0.002239297662963504, 88.06301224566828, 2.571, 36.59100890662512, 22.706, 23.598008623470523, 61.664, 85.11100566733154, 53.852, 86.7130099408717], Any[], Any[], Any[], [1, 2], [1, 2, 3], [1], Any[], Any[], Any[], \u001b[1m0×0 DataFrame\u001b[0m, \u001b[1m0×0 DataFrame\u001b[0m, 1, false, Vector{Float64}[], [0.0], String[], false, nothing, -1.0e6, 0, nothing, false)"
      ]
     },
     "execution_count": 50,
     "metadata": {},
     "output_type": "execute_result"
    }
   ],
   "source": [
    "hook = DataHook(collect_state_ids=[], collect_sources=[1,2], collect_cables=[1,2,3],collect_loads=[1], collect_state_paras=get_state_paras(env.nc))"
   ]
  },
  {
   "cell_type": "code",
   "execution_count": 51,
   "id": "0085585f",
   "metadata": {},
   "outputs": [
    {
     "data": {
      "text/plain": [
       "Any[]"
      ]
     },
     "execution_count": 51,
     "metadata": {},
     "output_type": "execute_result"
    }
   ],
   "source": [
    "hook.collect_action_ids"
   ]
  },
  {
   "cell_type": "code",
   "execution_count": 52,
   "id": "a170b0c5",
   "metadata": {
    "scrolled": true
   },
   "outputs": [
    {
     "name": "stdout",
     "output_type": "stream",
     "text": [
      "Any[\"source1_i_R1_a\", \"source1_i_R_C_a\", \"source1_i_R2_a\", \"source1_i_R_C_cables_a\", \"source1_i_R1_b\", \"source1_i_R_C_b\", \"source1_i_R2_b\", \"source1_i_R_C_cables_b\", \"source1_i_R1_c\", \"source1_i_R_C_c\", \"source1_i_R2_c\", \"source1_i_R_C_cables_c\", \"source2_i_R1_a\", \"source2_i_R_C_a\", \"source2_i_R2_a\", \"source2_i_R_C_cables_a\", \"source2_i_R1_b\", \"source2_i_R_C_b\", \"source2_i_R2_b\", \"source2_i_R_C_cables_b\", \"source2_i_R1_c\", \"source2_i_R_C_c\", \"source2_i_R2_c\", \"source2_i_R_C_cables_c\", \"cable1_i_R_a\", \"cable1_i_R_b\", \"cable1_i_R_c\", \"cable2_i_R_a\", \"cable2_i_R_b\", \"cable2_i_R_c\", \"cable3_i_R_a\", \"cable3_i_R_b\", \"cable3_i_R_c\", (\"load1_i_R_a\", \"load1_i_C_a\", \"load1_i_C_cables_a\"), (\"load1_i_R_b\", \"load1_i_C_b\", \"load1_i_C_cables_b\"), (\"load1_i_R_c\", \"load1_i_C_c\", \"load1_i_C_cables_c\")]"
     ]
    },
    {
     "data": {
      "text/plain": [
       "DataHook(false, \"episode_data/\", [-400.45066003244716 -794.7792117193422 … 0.0 0.0; 49380.5004346631 0.0 … 0.0 0.0; … ; 0.0 0.0 … 0.0 0.0; 0.0 0.0 … 0.0 0.0], [794.7792117193422 0.0 … 0.0 0.0; 0.0 0.0 … 0.0 0.0; … ; 0.0 0.0 … 0.0 0.0; 0.0 0.0 … 0.0 0.0], Any[0.0012582110669914284, 2.025090858127555e-5, 0.0012582110669914284, 9.260887466775631e-6, 0.0007175106173461386, 3.384504881313394e-5, 0.0007175106173461386, 4.0311700685012376e-6, 0.0012066027454164375, 2.0156042763641025e-5  …  0.002239297662963504, 88.06301224566828, 2.571, 36.59100890662512, 22.706, 23.598008623470523, 61.664, 85.11100566733154, 53.852, 86.7130099408717], Any[0.5032844267965714, 0.0005670254402757154, 0.5032844267965714, 0.0005670254402757154, 0.5032844267965714, 0.0005670254402757154, 0.5032844267965714, 0.0005670254402757154, 0.5032844267965714, 0.0005670254402757154  …  6.845868526153175, 5.315827887152063, 5.315827887152063, 5.315827887152063, 6.59828375274393, 6.59828375274393, 6.59828375274393, (67214.038, 0.9999998609442493, 1.3905575062028992e-7), (67214.038, 0.9999998609442493, 1.3905575062028992e-7), (67214.038, 0.9999998609442493, 1.3905575062028992e-7)], Any[1, 2, 3, 4, 59, 60, 61, 62, 117, 118  …  136, 21, 79, 137, 22, 80, 138, 50, 108, 166], Any[\"source1_i_R1_a\", \"source1_i_R_C_a\", \"source1_i_R2_a\", \"source1_i_R_C_cables_a\", \"source1_i_R1_b\", \"source1_i_R_C_b\", \"source1_i_R2_b\", \"source1_i_R_C_cables_b\", \"source1_i_R1_c\", \"source1_i_R_C_c\"  …  \"cable1_i_R_c\", \"cable2_i_R_a\", \"cable2_i_R_b\", \"cable2_i_R_c\", \"cable3_i_R_a\", \"cable3_i_R_b\", \"cable3_i_R_c\", (\"load1_i_R_a\", \"load1_i_C_a\", \"load1_i_C_cables_a\"), (\"load1_i_R_b\", \"load1_i_C_b\", \"load1_i_C_cables_b\"), (\"load1_i_R_c\", \"load1_i_C_c\", \"load1_i_C_cables_c\")], [1, 2], [1, 2, 3], [1], Any[\"source1_i_L1_a\", \"source1_u_C_a\", \"source1_i_L2_a\", \"source1_u_C_cables_a\", \"source1_i_L1_b\", \"source1_u_C_b\", \"source1_i_L2_b\", \"source1_u_C_cables_b\", \"source1_i_L1_c\", \"source1_u_C_c\"  …  \"cable2_i_L_c\", \"cable3_i_L_a\", \"cable3_i_L_b\", \"cable3_i_L_c\", \"load1_u_C_total_a\", \"load1_i_L_a\", \"load1_u_C_total_b\", \"load1_i_L_b\", \"load1_u_C_total_c\", \"load1_i_L_c\"], Any[], Any[\"source1_u_a\", \"source1_u_b\", \"source1_u_c\", \"source2_u_a\", \"source2_u_b\", \"source2_u_c\"], \u001b[1m500×335 DataFrame\u001b[0m\n",
       "\u001b[1m Row \u001b[0m│\u001b[1m episode \u001b[0m\u001b[1m time    \u001b[0m\u001b[1m source1_i_L1_a \u001b[0m\u001b[1m source1_u_L1_a \u001b[0m\u001b[1m source1_i_R1_a \u001b[0m\u001b[1m sourc\u001b[0m ⋯\n",
       "\u001b[1m     \u001b[0m│\u001b[90m Int64   \u001b[0m\u001b[90m Float32 \u001b[0m\u001b[90m Float64        \u001b[0m\u001b[90m Float64        \u001b[0m\u001b[90m Float64        \u001b[0m\u001b[90m Float\u001b[0m ⋯\n",
       "─────┼──────────────────────────────────────────────────────────────────────────\n",
       "   1 │       1   0.0           0.0               0.0           0.0             ⋯\n",
       "   2 │       1   0.0001        6.34747          68.1179        6.34747\n",
       "   3 │       1   0.0002        6.46706         -10.1788        6.46706\n",
       "   4 │       1   0.0003       -5.8004         -135.865        -5.8004\n",
       "   5 │       1   0.0004      -12.4937          -44.7883      -12.4937          ⋯\n",
       "   6 │       1   0.0005       -4.58447         117.009        -4.58447\n",
       "   7 │       1   0.0006       -7.94111         -40.5284       -7.94111\n",
       "   8 │       1   0.0007       -4.8419           20.2192       -4.8419\n",
       "  ⋮  │    ⋮        ⋮           ⋮               ⋮               ⋮               ⋱\n",
       " 493 │       1   0.0492       15.5843          308.076        15.5843          ⋯\n",
       " 494 │       1   0.0493       27.5699           96.4301       27.5699\n",
       " 495 │       1   0.0494       17.5914         -170.726        17.5914\n",
       " 496 │       1   0.0495       15.1702          -51.9701       15.1702\n",
       " 497 │       1   0.0496        6.73768         -93.7648        6.73768         ⋯\n",
       " 498 │       1   0.0497       -1.17459         -56.5026       -1.17459\n",
       " 499 │       1   0.0498       11.987           184.861        11.987\n",
       " 500 │       1   0.0499       13.5936           19.0053       13.5936\n",
       "\u001b[36m                                                330 columns and 484 rows omitted\u001b[0m, \u001b[1m0×0 DataFrame\u001b[0m, 2, false, [[0.0]], [0.0], String[], false, nothing, -1.0e6, 0, nothing, false)"
      ]
     },
     "execution_count": 52,
     "metadata": {},
     "output_type": "execute_result"
    }
   ],
   "source": [
    "run(policy, env, StopAfterEpisode(1), hook)"
   ]
  },
  {
   "cell_type": "markdown",
   "id": "07764130",
   "metadata": {},
   "source": [
    "## Labeling in Dataframe:"
   ]
  },
  {
   "cell_type": "code",
   "execution_count": 26,
   "id": "7953a593",
   "metadata": {
    "scrolled": false
   },
   "outputs": [
    {
     "data": {
      "text/plain": [
       "Dict{Any, Any} with 11 entries:\n",
       "  \"L1\"    => 0.00571151\n",
       "  \"C\"     => 4.17767e-6\n",
       "  \"fltr\"  => \"LCL\"\n",
       "  \"pwr\"   => 5000.0\n",
       "  \"L2\"    => 0.00571151\n",
       "  \"R_C\"   => 0.000116975\n",
       "  \"v_rip\" => 0.0140926\n",
       "  \"vdc\"   => 700\n",
       "  \"R1\"    => 2.2846\n",
       "  \"i_rip\" => 0.149493\n",
       "  \"R2\"    => 2.2846"
      ]
     },
     "execution_count": 26,
     "metadata": {},
     "output_type": "execute_result"
    }
   ],
   "source": [
    "env.nc.parameters[\"source\"][1]"
   ]
  },
  {
   "cell_type": "code",
   "execution_count": 27,
   "id": "583977cb",
   "metadata": {},
   "outputs": [
    {
     "data": {
      "text/plain": [
       "Dict{Any, Any} with 3 entries:\n",
       "  \"C\" => 9.85516e-7\n",
       "  \"L\" => 0.000650441\n",
       "  \"R\" => 1.77886"
      ]
     },
     "execution_count": 27,
     "metadata": {},
     "output_type": "execute_result"
    }
   ],
   "source": [
    "env.nc.parameters[\"cable\"][1]"
   ]
  },
  {
   "cell_type": "code",
   "execution_count": 28,
   "id": "77a79442",
   "metadata": {
    "scrolled": false
   },
   "outputs": [
    {
     "data": {
      "text/plain": [
       "Dict{Any, Any} with 4 entries:\n",
       "  \"C\"         => 43.171\n",
       "  \"L\"         => 63.663\n",
       "  \"R\"         => 11307.7\n",
       "  \"impedance\" => \"RLC\""
      ]
     },
     "execution_count": 28,
     "metadata": {},
     "output_type": "execute_result"
    }
   ],
   "source": [
    "env.nc.parameters[\"load\"][1]"
   ]
  },
  {
   "cell_type": "markdown",
   "id": "5e51f052",
   "metadata": {},
   "source": [
    "## Column Title in Dataframe:\n",
    "### Sources: source(id) _ (i/u) _ (Component-name)_(Phase)\n",
    "### Cables: cable(id) _ (i/u) _ (Component-Name)_(Phase)\n",
    "### Loads: load(id) _ (i/u) _ (Component-Name)_(Phase)\n"
   ]
  },
  {
   "cell_type": "markdown",
   "id": "8fe6a63c",
   "metadata": {},
   "source": [
    "### Examples:"
   ]
  },
  {
   "cell_type": "code",
   "execution_count": 57,
   "id": "e7f3eb37",
   "metadata": {},
   "outputs": [
    {
     "data": {
      "text/plain": [
       "500-element Vector{Float64}:\n",
       "    0.0\n",
       " -112.41458697211426\n",
       "  -97.20009151843372\n",
       " -172.92964456431176\n",
       "  165.2073928172253\n",
       "   -9.15148184858115\n",
       " -149.8444411206208\n",
       " -129.64812215521002\n",
       "   14.128055762210268\n",
       "   84.33511238498669\n",
       "    ⋮\n",
       "   43.664757437201246\n",
       "  -10.99480573320385\n",
       " -154.83503308570076\n",
       "  -87.92965374393502\n",
       "  138.4183148607575\n",
       "  134.88834598218386\n",
       " -167.40896475600616\n",
       "  142.56283345938155\n",
       "   93.81710821708327\n",
       "  -56.57645037323928"
      ]
     },
     "execution_count": 57,
     "metadata": {},
     "output_type": "execute_result"
    }
   ],
   "source": [
    "state_name1= \"source2_i_R1_a\"\n",
    "state_name2= \"cable3_u_R_b\"\n",
    "state_name3= \"load1_i_C_a\"\n",
    "\n",
    "hook.df[:, :source2_u_a]"
   ]
  },
  {
   "cell_type": "code",
   "execution_count": null,
   "id": "b1b78463",
   "metadata": {},
   "outputs": [],
   "source": []
  },
  {
   "cell_type": "code",
   "execution_count": null,
   "id": "721cff31",
   "metadata": {},
   "outputs": [],
   "source": []
  }
 ],
 "metadata": {
  "kernelspec": {
   "display_name": "Julia 1.7.2",
   "language": "julia",
   "name": "julia-1.7"
  },
  "language_info": {
   "file_extension": ".jl",
   "mimetype": "application/julia",
   "name": "julia",
   "version": "1.7.2"
  }
 },
 "nbformat": 4,
 "nbformat_minor": 5
}
