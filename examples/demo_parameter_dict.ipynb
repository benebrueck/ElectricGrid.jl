{
 "cells": [
  {
   "cell_type": "code",
   "execution_count": null,
   "metadata": {},
   "outputs": [],
   "source": [
    "using DrWatson\n",
    "@quickactivate \"dare\"\n",
    "\n",
    "using ReinforcementLearning\n",
    "using IntervalSets\n",
    "using LinearAlgebra\n",
    "using ControlSystems\n",
    "using CUDA\n",
    "using PlotlyJS\n",
    "\n",
    "\n",
    "include(srcdir(\"nodeconstructor.jl\"))\n",
    "include(srcdir(\"env.jl\"));\n",
    "include(srcdir(\"sin_policy.jl\"))\n",
    "include(srcdir(\"data_hook.jl\"))\n",
    "include(srcdir(\"pv_module.jl\"))"
   ]
  },
  {
   "cell_type": "markdown",
   "metadata": {},
   "source": [
    "# #17 Check/Test Notebook\n",
    "To be transfered to unit tests (-> https://erik-engheim.medium.com/julia-v1-5-testing-best-practices-3ca8780e6336)?\n",
    "Reconstruction of parameter dict, checking if 'all' cases run through"
   ]
  },
  {
   "cell_type": "code",
   "execution_count": null,
   "metadata": {},
   "outputs": [],
   "source": [
    "CM = [ 0. 0. 1.\n",
    "     0. 0. 2\n",
    "     -1. -2. 0.]\n",
    "\n",
    "ts = 1e-4"
   ]
  },
  {
   "cell_type": "markdown",
   "metadata": {},
   "source": [
    "Test setting without parameter dict and CM"
   ]
  },
  {
   "cell_type": "code",
   "execution_count": null,
   "metadata": {},
   "outputs": [],
   "source": [
    "env = SimEnv(ts=ts, use_gpu=false, num_sources = 20, num_loads = 2, maxsteps = 500);"
   ]
  },
  {
   "cell_type": "code",
   "execution_count": null,
   "metadata": {},
   "outputs": [],
   "source": [
    "env.nc.parameters#[\"loads\"]"
   ]
  },
  {
   "cell_type": "markdown",
   "metadata": {},
   "source": [
    "### Source Check\n",
    "Test with CM and only one defined source + grid-params one left out"
   ]
  },
  {
   "cell_type": "code",
   "execution_count": null,
   "metadata": {},
   "outputs": [],
   "source": [
    "parameters = Dict()\n",
    "source_list = []\n",
    "source1 = Dict()\n",
    "source2 = Dict()\n",
    "\n",
    "# all possible parameters: (only part of them defined)\n",
    "#source[\"pwr\"] = 45000.0\n",
    "#source[\"v_rip\"] = 0.01556109320329396\n",
    "#source[\"vdc\"] = 750\n",
    "#source[\"i_rip\"] = 0.10108821490394984\n",
    "source1[\"fltr\"] = \"LCL\"\n",
    "source1[\"source_type\"] = \"pv\"\n",
    "source1[\"R1\"] = 0.4\n",
    "source1[\"R_C\"] = 0.0006\n",
    "#source1[\"L1\"] = 2.3e-3\n",
    "#source[\"R2\"] = 0.4022094955070556   # needed for LCL\n",
    "#source[\"L2\"] = 0.001005523738767639\n",
    "#source1[\"C\"] = 1e-6;\n",
    "\n",
    "\n",
    "push!(source_list, source1)\n",
    "\n",
    "parameters[\"source\"] = source_list\n",
    "parameters[\"grid\"] = Dict(\"phase\" => 1, \"v_rms\" => 230);"
   ]
  },
  {
   "cell_type": "code",
   "execution_count": null,
   "metadata": {},
   "outputs": [],
   "source": [
    "\n",
    "\n",
    "ts = 1e-4\n",
    "env = SimEnv(ts=ts, CM = CM, num_sources = 2, num_loads = 1, parameters = parameters, maxsteps = 500)\n",
    "env.nc.parameters"
   ]
  },
  {
   "cell_type": "code",
   "execution_count": null,
   "metadata": {},
   "outputs": [],
   "source": [
    "env.nc.parameters[\"source\"][1]"
   ]
  },
  {
   "cell_type": "code",
   "execution_count": null,
   "metadata": {},
   "outputs": [],
   "source": [
    "env.nc.parameters[\"source\"][2]"
   ]
  },
  {
   "cell_type": "code",
   "execution_count": null,
   "metadata": {},
   "outputs": [],
   "source": [
    "env.v_dc_arr[1](env, 800, 25)"
   ]
  },
  {
   "cell_type": "code",
   "execution_count": null,
   "metadata": {},
   "outputs": [],
   "source": [
    "env.v_dc_arr[2](env, 1000, 25)"
   ]
  },
  {
   "cell_type": "markdown",
   "metadata": {},
   "source": [
    "### Cable check\n",
    "Only parts of the sorces defined, rest should be layouted depending on peak power - btw. other way round does NOT fit (L -> pwr, if pwr not defined)\n",
    "Only one cable defined party, rest filled up and other calbes put to dict?"
   ]
  },
  {
   "cell_type": "code",
   "execution_count": null,
   "metadata": {},
   "outputs": [],
   "source": [
    "parameters = Dict()\n",
    "source_list = []\n",
    "source1 = Dict()\n",
    "source2 = Dict()\n",
    "\n",
    "source1[\"pwr\"] = 5000.0\n",
    "source1[\"vdc\"] = 750\n",
    "source1[\"fltr\"] = \"LC\"\n",
    "\n",
    "source2[\"pwr\"] = 5000.0\n",
    "source2[\"vdc\"] = 750\n",
    "source2[\"fltr\"] = \"L\"\n",
    "\n",
    "push!(source_list, source1, source2);\n",
    "\n",
    "load_list = []\n",
    "load = Dict()\n",
    "\n",
    "load[\"impedance\"] = \"RLC\"\n",
    "load[\"R\"] = 14.0;\n",
    "load[\"L\"] = 57.042;\n",
    "load[\"C\"] = 39.18;\n",
    "push!(load_list, load);\n",
    "\n",
    "cable_list = []\n",
    "\n",
    "cable = Dict()\n",
    "cable[\"R\"] = 0.722\n",
    "cable[\"L\"] = 0.264e-3\n",
    "push!(cable_list, cable);\n",
    "\n",
    "parameters[\"source\"] = source_list\n",
    "parameters[\"cable\"] = cable_list\n",
    "parameters[\"load\"] = load_list;"
   ]
  },
  {
   "cell_type": "code",
   "execution_count": null,
   "metadata": {},
   "outputs": [],
   "source": [
    "ts = 1e-4\n",
    "env = SimEnv(ts=ts, CM = CM, num_sources = 2, num_loads = 1, parameters = parameters, maxsteps = 500)\n",
    "env.nc.parameters"
   ]
  },
  {
   "cell_type": "code",
   "execution_count": null,
   "metadata": {},
   "outputs": [],
   "source": [
    "env.nc.parameters[\"cable\"][1]"
   ]
  },
  {
   "cell_type": "code",
   "execution_count": null,
   "metadata": {},
   "outputs": [],
   "source": [
    "env.nc.parameters[\"cable\"][2]"
   ]
  },
  {
   "cell_type": "markdown",
   "metadata": {},
   "source": [
    "### Load Check"
   ]
  },
  {
   "cell_type": "code",
   "execution_count": null,
   "metadata": {},
   "outputs": [],
   "source": [
    "load_list = []\n",
    "load = Dict()\n",
    "\n",
    "load[\"impedance\"] = \"RLC\"\n",
    "load[\"R\"] = 14.0;\n",
    "load[\"L\"] = 57.042;\n",
    "#load[\"C\"] = 39.18;\n",
    "push!(load_list, load);\n",
    "\n",
    "\n",
    "parameters[\"load\"] = load_list;"
   ]
  },
  {
   "cell_type": "code",
   "execution_count": null,
   "metadata": {},
   "outputs": [],
   "source": [
    "ts = 1e-4\n",
    "env = SimEnv(ts=ts, CM = CM, num_sources = 2, num_loads = 1, parameters = parameters, maxsteps = 500)\n",
    "env.nc.parameters"
   ]
  },
  {
   "cell_type": "code",
   "execution_count": null,
   "metadata": {},
   "outputs": [],
   "source": [
    "env.nc.parameters[\"load\"][1]"
   ]
  },
  {
   "cell_type": "code",
   "execution_count": null,
   "metadata": {},
   "outputs": [],
   "source": [
    "env.nc.parameters[\"load\"][1][\"C\"]"
   ]
  },
  {
   "cell_type": "code",
   "execution_count": null,
   "metadata": {},
   "outputs": [],
   "source": [
    "load_list = []\n",
    "load = Dict()\n",
    "\n",
    "#load[\"impedance\"] = \"RLC\"\n",
    "load[\"R\"] = 14.0;\n",
    "#load[\"L\"] = 57.042;\n",
    "#load[\"C\"] = 39.18;\n",
    "push!(load_list, load);\n",
    "\n",
    "\n",
    "parameters[\"load\"] = load_list;\n",
    "\n",
    "ts = 1e-4\n",
    "env = SimEnv(ts=ts, CM = CM, num_sources = 2, num_loads = 1, parameters = parameters, maxsteps = 500)\n",
    "env.nc.parameters[\"load\"][1]"
   ]
  },
  {
   "cell_type": "code",
   "execution_count": null,
   "metadata": {},
   "outputs": [],
   "source": [
    "load_list = []\n",
    "load = Dict()\n",
    "\n",
    "#load[\"impedance\"] = \"RLC\"\n",
    "load[\"R\"] = 14.0;\n",
    "#load[\"L\"] = 57.042;\n",
    "#load[\"C\"] = 39.18;\n",
    "push!(load_list, load);\n",
    "\n",
    "\n",
    "parameters[\"load\"] = load_list;\n",
    "\n",
    "ts = 1e-4\n",
    "env = SimEnv(ts=ts, CM = CM, num_sources = 2, num_loads = 1, parameters = parameters, maxsteps = 500)\n",
    "env.nc.parameters[\"load\"][1]"
   ]
  },
  {
   "cell_type": "markdown",
   "metadata": {},
   "source": [
    "--------------------------------------------------------------------"
   ]
  },
  {
   "cell_type": "markdown",
   "metadata": {},
   "source": [
    "# TODO: LC oder L vor LCL: Problem, zusammenbasteln der A-Matrix\n",
    "\n",
    "Das folgende geht kaputt, weil der NC annimmt, dass zuerst immer LCL, dann LC und dann L Filter kommen. Noch richtig schön viel zu fuckeln, jiha"
   ]
  },
  {
   "cell_type": "code",
   "execution_count": null,
   "metadata": {},
   "outputs": [],
   "source": [
    "parameters = Dict()\n",
    "source_list = []\n",
    "source1 = Dict()\n",
    "source2 = Dict()\n",
    "\n",
    "source1[\"pwr\"] = 5000.0\n",
    "source1[\"vdc\"] = 750\n",
    "source1[\"fltr\"] = \"LC\"\n",
    "\n",
    "source2[\"pwr\"] = 5000.0\n",
    "source2[\"vdc\"] = 750\n",
    "source2[\"fltr\"] = \"LCL\"\n",
    "\n",
    "push!(source_list, source1, source2);\n",
    "\n",
    "parameters[\"source\"] = source_list\n",
    "\n",
    "\n",
    "env = SimEnv(ts=ts, CM = CM, num_sources = 2, num_loads = 1, parameters = parameters, maxsteps = 500)\n",
    "env.nc.parameters"
   ]
  },
  {
   "cell_type": "code",
   "execution_count": null,
   "metadata": {},
   "outputs": [],
   "source": []
  }
 ],
 "metadata": {
  "kernelspec": {
   "display_name": "Julia 1.8.0",
   "language": "julia",
   "name": "julia-1.8"
  },
  "language_info": {
   "file_extension": ".jl",
   "mimetype": "application/julia",
   "name": "julia",
   "version": "1.8.0"
  },
  "orig_nbformat": 4
 },
 "nbformat": 4,
 "nbformat_minor": 2
}
