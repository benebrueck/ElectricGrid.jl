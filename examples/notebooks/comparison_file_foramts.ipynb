{
 "cells": [
  {
   "cell_type": "markdown",
   "id": "e295a28c",
   "metadata": {},
   "source": [
    "# Benchmark of file formats"
   ]
  },
  {
   "cell_type": "code",
   "execution_count": null,
   "id": "ac05db34",
   "metadata": {},
   "outputs": [],
   "source": [
    "using DrWatson\n",
    "@quickactivate \"dare\"\n",
    "\n",
    "using DataFrames\n",
    "\n",
    "using ReinforcementLearning\n",
    "using IntervalSets\n",
    "using LinearAlgebra\n",
    "using ControlSystems\n",
    "using CUDA\n",
    "using Plots\n",
    "\n",
    "include(srcdir(\"nodeconstructor.jl\"))\n",
    "include(srcdir(\"save_all_episodes_hook.jl\"))\n",
    "\n",
    "include(srcdir(\"env.jl\"));"
   ]
  },
  {
   "cell_type": "code",
   "execution_count": null,
   "id": "4f91e62e",
   "metadata": {},
   "outputs": [],
   "source": [
    "using Arrow\n",
    "using CSV\n",
    "using Serialization\n",
    "using JLSO\n",
    "using JSONTables\n",
    "using CodecZlib\n",
    "using ZipFile\n",
    "using JDF\n",
    "using StatsPlots # for charts\n",
    "using Mmap # for compression"
   ]
  },
  {
   "cell_type": "markdown",
   "id": "86690f12",
   "metadata": {},
   "source": [
    "## Create Env data"
   ]
  },
  {
   "cell_type": "code",
   "execution_count": null,
   "id": "f7304629",
   "metadata": {},
   "outputs": [],
   "source": [
    "CM = [0.0  1.0\n",
    " -1.0  0.0]\n",
    "\n",
    "parameters = Dict()\n",
    "source_list = []\n",
    "\n",
    "source = Dict()\n",
    "\n",
    "source[\"pwr\"] = 45000.0\n",
    "source[\"v_rip\"] = 0.01556109320329396\n",
    "source[\"vdc\"] = 750\n",
    "source[\"i_rip\"] = 0.10108821490394984\n",
    "source[\"fltr\"] = \"LCL\"\n",
    "source[\"R1\"] = 0.4022094955070556\n",
    "source[\"R2\"] = 0.4022094955070556\n",
    "source[\"R_C\"] = 0.0006447094780419011\n",
    "source[\"L1\"] = 0.001005523738767639\n",
    "source[\"L2\"] = 0.001005523738767639\n",
    "source[\"C\"] = 2.302533850149647e-5;\n",
    "\n",
    "push!(source_list, source);\n",
    "\n",
    "load_list = []\n",
    "load = Dict()\n",
    "\n",
    "load[\"impedance\"] = \"RLC\"\n",
    "load[\"R\"] = 30236.0;\n",
    "load[\"L\"] = 57.042;\n",
    "load[\"C\"] = 39.18;\n",
    "push!(load_list, load);\n",
    "\n",
    "cable_list = []\n",
    "\n",
    "cable = Dict()\n",
    "cable[\"R\"] = 6.84059\n",
    "cable[\"L\"] = 0.00250127\n",
    "cable[\"C\"] = 3.7898e-6;\n",
    "push!(cable_list, cable);\n",
    "\n",
    "parameters[\"source\"] = source_list\n",
    "parameters[\"cable\"] = cable_list\n",
    "parameters[\"load\"] = load_list;\n",
    "parameters[\"grid\"] = Dict(\"fs\" => 10000.0, \"phase\" => 1, \"v_rms\" => 230);"
   ]
  },
  {
   "cell_type": "code",
   "execution_count": null,
   "id": "b750dcec",
   "metadata": {},
   "outputs": [],
   "source": [
    "nc = NodeConstructor(num_sources=1, num_loads=1, parameters=parameters, CM=CM);"
   ]
  },
  {
   "cell_type": "code",
   "execution_count": null,
   "id": "2349bc4f",
   "metadata": {},
   "outputs": [],
   "source": [
    "A, B, C, D = get_sys(nc);"
   ]
  },
  {
   "cell_type": "code",
   "execution_count": null,
   "id": "cacfb510",
   "metadata": {},
   "outputs": [],
   "source": [
    "limits = Dict(\"i_lim\" => 20, \"v_lim\" => 600);"
   ]
  },
  {
   "cell_type": "code",
   "execution_count": null,
   "id": "6249fe42",
   "metadata": {},
   "outputs": [],
   "source": [
    "states = get_states(nc)\n",
    "norm_array = []\n",
    "for state_name in states\n",
    "    if startswith(state_name, \"i\")\n",
    "        push!(norm_array, limits[\"i_lim\"])\n",
    "    elseif startswith(state_name, \"u\")\n",
    "        push!(norm_array, limits[\"v_lim\"])\n",
    "    end\n",
    "end"
   ]
  },
  {
   "cell_type": "code",
   "execution_count": null,
   "id": "3c87bd88",
   "metadata": {},
   "outputs": [],
   "source": [
    "ns = length(A[1,:]);\n",
    "na = length(B[1,:]);"
   ]
  },
  {
   "cell_type": "code",
   "execution_count": null,
   "id": "d7a9bc0e",
   "metadata": {},
   "outputs": [],
   "source": [
    "# time step\n",
    "ts = 1e-5\n",
    "V_source = 300;"
   ]
  },
  {
   "cell_type": "code",
   "execution_count": null,
   "id": "39546adb",
   "metadata": {},
   "outputs": [],
   "source": [
    "x0 = [ 0.0 for i = 1:length(A[1,:]) ]\n",
    "Ad = exp(A*ts)\n",
    "Bd = A \\ (Ad - C) * B;"
   ]
  },
  {
   "cell_type": "code",
   "execution_count": null,
   "id": "450c9c7f",
   "metadata": {},
   "outputs": [],
   "source": [
    "env = SimEnv(A=A, B=B, C=C, Ad=Ad, Bd=Bd, norm_array=norm_array, x0=x0, v_dc=V_source, ts=rationalize(ts), convert_state_to_cpu=true);"
   ]
  },
  {
   "cell_type": "code",
   "execution_count": null,
   "id": "945425ad",
   "metadata": {},
   "outputs": [],
   "source": [
    "h = SaveAllEpisodes()"
   ]
  },
  {
   "cell_type": "code",
   "execution_count": null,
   "id": "439dbe0e",
   "metadata": {},
   "outputs": [],
   "source": [
    "policy = RandomPolicy(action_space(env))"
   ]
  },
  {
   "cell_type": "code",
   "execution_count": null,
   "id": "27b30b7e",
   "metadata": {},
   "outputs": [],
   "source": [
    "run(policy, env, StopAfterEpisode(10000), h)"
   ]
  },
  {
   "cell_type": "code",
   "execution_count": null,
   "id": "2ccbac86",
   "metadata": {},
   "outputs": [],
   "source": [
    "h.df"
   ]
  },
  {
   "cell_type": "markdown",
   "id": "dfac2428",
   "metadata": {},
   "source": [
    "### Write data"
   ]
  },
  {
   "cell_type": "code",
   "execution_count": null,
   "id": "4ca05a2a",
   "metadata": {},
   "outputs": [],
   "source": [
    "println(\"First run\")\n",
    "println(\"CSV.jl\")\n",
    "csvwrite1 = @elapsed @time CSV.write(\"bigdf1.csv\", h.df)\n",
    "println(\"Serialization\")\n",
    "serializewrite1 = @elapsed @time open(io -> serialize(io, h.df), \"bigdf.bin\", \"w\")\n",
    "# println(\"JDF.jl\")\n",
    "# jdfwrite1 = @elapsed @time JDF.save(\"bigdf.jdf\", h.df)\n",
    "println(\"JLSO.jl\")\n",
    "jlsowrite1 = @elapsed @time JLSO.save(\"bigdf.jlso\", :data => h.df)\n",
    "println(\"Arrow.jl\")\n",
    "arrowwrite1 = @elapsed @time Arrow.write(\"bigdf.arrow\", h.df)\n",
    "println(\"JSONTables.jl arraytable\")\n",
    "jsontablesawrite1 = @elapsed @time open(io -> arraytable(io, h.df), \"bigdf1.json\", \"w\")\n",
    "println(\"JSONTables.jl objecttable\")\n",
    "jsontablesowrite1 = @elapsed @time open(io -> objecttable(io, h.df), \"bigdf2.json\", \"w\")\n",
    "println(\"Second run\")\n",
    "println(\"CSV.jl\")\n",
    "csvwrite2 = @elapsed @time CSV.write(\"bigdf1.csv\", h.df)\n",
    "println(\"Serialization\")\n",
    "serializewrite2 = @elapsed @time open(io -> serialize(io, h.df), \"bigdf.bin\", \"w\")\n",
    "# println(\"JDF.jl\")\n",
    "# jdfwrite2 = @elapsed @time JDF.save(\"bigdf.jdf\", h.df)\n",
    "println(\"JLSO.jl\")\n",
    "jlsowrite2 = @elapsed @time JLSO.save(\"bigdf.jlso\", :data => h.df)\n",
    "println(\"Arrow.jl\")\n",
    "arrowwrite2 = @elapsed @time Arrow.write(\"bigdf.arrow\", h.df)\n",
    "println(\"JSONTables.jl arraytable\")\n",
    "jsontablesawrite2 = @elapsed @time open(io -> arraytable(io, h.df), \"bigdf1.json\", \"w\")\n",
    "println(\"JSONTables.jl objecttable\")\n",
    "jsontablesowrite2 = @elapsed @time open(io -> objecttable(io, h.df), \"bigdf2.json\", \"w\")"
   ]
  },
  {
   "cell_type": "code",
   "execution_count": null,
   "id": "518ef908",
   "metadata": {},
   "outputs": [],
   "source": [
    "groupedbar(\n",
    "    # Exclude JSONTables.jl arraytable due to timing\n",
    "    repeat([\"CSV.jl\", \"Serialization\", \"JLSO.jl\", \"Arrow.jl\", \"JSONTables.jl\\nobjecttable\"],\n",
    "            inner = 2),\n",
    "    [csvwrite1, csvwrite2, serializewrite1, serializewrite1,\n",
    "     jlsowrite1, jlsowrite2, arrowwrite1, arrowwrite2, jsontablesowrite2, jsontablesowrite2],\n",
    "    group = repeat([\"1st\", \"2nd\"], outer = 5),\n",
    "    ylab = \"Second\",\n",
    "    title = \"Write Performance\\nDataFrame: bigdf\\nSize: $(size(h.df))\"\n",
    ")"
   ]
  },
  {
   "cell_type": "markdown",
   "id": "87e2a82b",
   "metadata": {},
   "source": [
    "## Used storage"
   ]
  },
  {
   "cell_type": "code",
   "execution_count": null,
   "id": "a4639fae",
   "metadata": {},
   "outputs": [],
   "source": [
    "data_files = [\"bigdf1.csv\", \"bigdf.bin\", \"bigdf.arrow\", \"bigdf1.json\", \"bigdf2.json\"]\n",
    "df = DataFrame(file = data_files, size = getfield.(stat.(data_files), :size))\n",
    "# append!(df, DataFrame(file = \"episode_data/bigdf.jdf\", size=reduce((x,y)->x+y.size,\n",
    "#                                                       stat.(joinpath.(\"bigdf.jdf\", readdir(\"bigdf.jdf\"))),\n",
    "#                                                       init=0)))\n",
    "sort!(df, :size)"
   ]
  },
  {
   "cell_type": "code",
   "execution_count": null,
   "id": "8dcd2127",
   "metadata": {},
   "outputs": [],
   "source": [
    "@df df plot(:file, :size/1024^2, seriestype=:bar, title = \"Format File Size (MB)\", label=\"Size\", ylab=\"MB\")"
   ]
  },
  {
   "cell_type": "markdown",
   "id": "e42cc65c",
   "metadata": {},
   "source": [
    "## Read data"
   ]
  },
  {
   "cell_type": "code",
   "execution_count": null,
   "id": "ea1563a7",
   "metadata": {},
   "outputs": [],
   "source": [
    "println(\"First run\")\n",
    "println(\"CSV.jl\")\n",
    "csvread1 = @elapsed @time CSV.read(\"bigdf1.csv\", DataFrame)\n",
    "println(\"Serialization\")\n",
    "serializeread1 = @elapsed @time open(deserialize, \"bigdf.bin\")\n",
    "# println(\"JDF.jl\")\n",
    "# jdfread1 = @elapsed @time JDF.load(\"bigdf.jdf\") |> DataFrame\n",
    "println(\"JLSO.jl\")\n",
    "jlsoread1 = @elapsed @time JLSO.load(\"bigdf.jlso\")\n",
    "println(\"Arrow.jl\")\n",
    "arrowread1 = @elapsed @time df_tmp = Arrow.Table(\"bigdf.arrow\") |> DataFrame\n",
    "arrowread1copy = @elapsed @time copy(df_tmp)\n",
    "println(\"JSONTables.jl arraytable\")\n",
    "jsontablesaread1 = @elapsed @time open(jsontable, \"bigdf1.json\")\n",
    "println(\"JSONTables.jl objecttable\")\n",
    "jsontablesoread1 = @elapsed @time open(jsontable, \"bigdf2.json\")\n",
    "println(\"Second run\")\n",
    "csvread2 = @elapsed @time CSV.read(\"bigdf1.csv\", DataFrame)\n",
    "println(\"Serialization\")\n",
    "serializeread2 = @elapsed @time open(deserialize, \"bigdf.bin\")\n",
    "# println(\"JDF.jl\")\n",
    "# jdfread2 = @elapsed @time JDF.load(\"bigdf.jdf\") |> DataFrame\n",
    "println(\"JLSO.jl\")\n",
    "jlsoread2 = @elapsed @time JLSO.load(\"bigdf.jlso\")\n",
    "println(\"Arrow.jl\")\n",
    "arrowread2 = @elapsed @time df_tmp = Arrow.Table(\"bigdf.arrow\") |> DataFrame\n",
    "arrowread2copy = @elapsed @time copy(df_tmp)\n",
    "println(\"JSONTables.jl arraytable\")\n",
    "jsontablesaread2 = @elapsed @time open(jsontable, \"bigdf1.json\")\n",
    "println(\"JSONTables.jl objecttable\")\n",
    "jsontablesoread2 = @elapsed @time open(jsontable, \"bigdf2.json\");"
   ]
  },
  {
   "cell_type": "code",
   "execution_count": null,
   "id": "74beb900",
   "metadata": {},
   "outputs": [],
   "source": [
    "# Exclude JSON\\narraytable arraytable due to much longer timing\n",
    "groupedbar(\n",
    "    repeat([\"CSV.jl\", \"Serialization\", \"JLSO.jl\", \"Arrow.jl\", \"Arrow.jl\\ncopy\", #\"JSON\\narraytable\",\n",
    "            \"JSON\\nobjecttable\"], inner = 2),\n",
    "    [csvread1, csvread2, serializeread1, serializeread2, jlsoread1, jlsoread2,\n",
    "     arrowread1, arrowread2, arrowread1+arrowread1copy, arrowread2+arrowread2copy,\n",
    "     # jsontablesaread1, jsontablesaread2,\n",
    "     jsontablesoread1, jsontablesoread2],    \n",
    "    group = repeat([\"1st\", \"2nd\"], outer = 6),\n",
    "    ylab = \"Second\",\n",
    "    title = \"Read Performance\\nDataFrame: bigdf\\nSize: $(size(h.df))\"\n",
    ")"
   ]
  },
  {
   "cell_type": "code",
   "execution_count": null,
   "id": "8b5d7043",
   "metadata": {},
   "outputs": [],
   "source": []
  }
 ],
 "metadata": {
  "kernelspec": {
   "display_name": "Julia 1.7.2",
   "language": "julia",
   "name": "julia-1.7"
  },
  "language_info": {
   "file_extension": ".jl",
   "mimetype": "application/julia",
   "name": "julia",
   "version": "1.7.2"
  }
 },
 "nbformat": 4,
 "nbformat_minor": 5
}
