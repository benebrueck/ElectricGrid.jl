{
 "cells": [
  {
   "cell_type": "markdown",
   "id": "1aa1010c",
   "metadata": {},
   "source": [
    "# NodeConstructor Demo"
   ]
  },
  {
   "cell_type": "markdown",
   "id": "567425c1",
   "metadata": {},
   "source": [
    "The NodeConstructor has the goal to convert the physical system, here the grid, into a mathematical model. This mathematical model can then be used to simulate the behavior of the network. This notebook addresses the following points:\n",
    "\n",
    "- ### Introduction to the NodeConstructor\n",
    "- ### Representation of the physical grid\n",
    "- ### Bulding of the state-space matrices\n"
   ]
  },
  {
   "cell_type": "markdown",
   "id": "503c296e",
   "metadata": {},
   "source": [
    "## Introduction"
   ]
  },
  {
   "cell_type": "markdown",
   "id": "95c30e03",
   "metadata": {},
   "source": [
    "![Illustration of where the NodeConstructor is located](figures/JEGOverview.png \"\")\n",
    "\n",
    "The NodeConstructor is a part of the enviroment (see graphic). Its function is to create the mathematical model of the grid to be simulated. The inputs for the NodeConstructor are the specifications of the grid, which will be discussed in more detail subsequently. Within the NodeConstructor, an ODE system is then created based on the underlying physical models and properties of the individual components. Based on this ODE system, the necessary matrices can then be extracted.\n",
    "\n",
    "In the following, we will discuss how a grid can be transferred to the NodeConstructor."
   ]
  },
  {
   "cell_type": "markdown",
   "id": "f0a0e9bf",
   "metadata": {},
   "source": [
    "## Model a physical grid"
   ]
  },
  {
   "cell_type": "markdown",
   "id": "22618086",
   "metadata": {},
   "source": [
    "The following graphic shows a simple example grid:\n",
    "\n",
    "\n",
    "![ExampleGrid](figures/ExampleGrid.png \"Illustration of a simple network and its electrical equivalent circuit diagram.\")\n",
    "\n",
    "Two sources (wind turbine on the left and PV arrays on the right), as well as a load (exemplary of a household which is composed of various objects) can be seen in this. In addition, the sources are connected to the load via cables. For the sources, we assume that the voltage is provided by a DC link, so we can assume that the voltage can be modeled by a voltage source and a filter. Loads are divided into active loads, which, based on an internal function, can take power from the network, and passive loads, which are statically described by their resistive, capacitive and/or inductive component and thus dissipate a certain power. Cable modeling relies on the Pi equivalent circuit.\n",
    "\n",
    "If you abstract the above figure and insert the respective components according to the description, you get the following circuit:\n",
    "\n",
    "![ExampleGridCurcuit](figures/ExampleGridCurcuit.png \"Abstraction of the previously presented example grid.\")\n",
    "\n",
    "With the help of this example, we will now discuss the derivation of a mathematical model and what information the NodeConstructor will later need to generate this model automatically."
   ]
  },
  {
   "cell_type": "markdown",
   "id": "9345679b",
   "metadata": {},
   "source": [
    "### Fundamentals of electrical engineering"
   ]
  },
  {
   "cell_type": "markdown",
   "id": "b5858e7e",
   "metadata": {},
   "source": [
    "If we annotate the above equivalent circuit, we arrive at the following representation:\n",
    "\n",
    "![ExampleGridCurcuitAnnotations](figures/ExampleGridCurcuit_Annotations_Kirchhof.png \"Equivalent curcuit with annotations.\")\n",
    "\n",
    "In this, the components are annotated and the currents are noted with the technical flow direction. For the sake of clarity, the voltages are only indicated by green arrows, but have the same name as the corresponding component to which they are applied.\n",
    "\n",
    "Based on the components within the equivalent circuit diagram, we can now construct the differential equations. Togehter with Kirchhoff's circuit laws\n",
    "\n",
    "\\begin{align}\n",
    "    \\sum_k^n i_k(t) &= 0,\\\\\n",
    "    \\sum_k^n u_n(t) &= 0\n",
    "\\end{align}\n",
    "\n",
    "and the component equations\n",
    "\n",
    "\\begin{align}\n",
    "    u(t) &= R i(t),\\\\\n",
    "    i(t) &= C\\dot u(t),\\\\\n",
    "    u(t) &= L\\dot i(t).\n",
    "\\end{align}\n",
    "\n",
    "This gives the following equation system:\n",
    "\n",
    "\\begin{align}\n",
    "    \\text{M1:}\\;& 0 = u_{in1}  - u_{R11} - u_{L11} - u_{C11} - u_{RC1}, \\tag{1}\\label{equ:1}\\\\\n",
    "    \\text{M2:}\\;& 0 = u_{C11} + u_{RC1} - u_{Cb11},\\tag{2}\\label{equ:2}\\\\\n",
    "    \\text{M3:}\\;& 0 = u_{Cb11} - u_{Rb1} - u_{Lb1} - u_{Cb21},\\tag{3}\\label{equ:3}\\\\\n",
    "    \\text{M4:}\\;& 0 = u_{RL} - u_{LL}, \\tag{4}\\label{equ:4}\\\\\n",
    "    \\text{M5:}\\;& 0 = u_{Cb22} + u_{Rb2} + u_{Lb2} - u_{Cb12}, \\tag{5}\\label{equ:5}\\\\\n",
    "    \\text{M6:}\\;& 0 = u_{Cb12} + u_{R22} + u_{L22} - u_{C12} - u_{RC2}, \\tag{6}\\label{equ:6}\\\\\n",
    "    \\text{M7:}\\;& 0 = u_{RC2} + u_{C12} + u_{L12} + u_{R12} - u_{in2}, \\tag{7}\\label{equ:7}\\\\\n",
    "    \\text{N1:}\\;& 0 = i_{11} - i_{RC1} - i_{Cb11} - i_{Rb1}, \\tag{8}\\label{equ:8}\\\\\n",
    "    \\text{N2:}\\;& 0 = i_{Rb1} - i_{Cb21} - i_{CL} - i_{RL} - i_{LL} - i_{Cb22} + i_{Rb2}, \\tag{9}\\label{equ:9}\\\\\n",
    "    \\text{N3:}\\;& 0 = i_{22} - i_{Rb2} - i_{Cb21}, \\tag{10}\\label{equ:10}\\\\\n",
    "    \\text{N4:}\\;& 0 = i_{12} - i_{RC2} - i_{22}. \\tag{11}\\label{equ:11}\n",
    "\\end{align}\n",
    "\n",
    "\n",
    "\n",
    "For the sake of clarity, the time dependencies are omitted here. For node 2 we use a trick, because there are several capacitors connected in parallel. To reduce the number of ODEs, the capacitors are combined into one. Thereby the capacitances of the capacitors have to be summed up:\n",
    "\n",
    "\\begin{equation}\n",
    "    C_{SL} = C_{b1} + C_L + C_{b2}\n",
    "\\end{equation}\n",
    "\n",
    "We then call this capacitor $C_{SL}$ through which the current $i_{CSL}$ flows and the voltage $u_{CSL}$ is applied. Now we insert the component equations into the equations \\ref{equ:1} to \\ref{equ:11} and rearrange them,  so that an ODE system is obtained:\n",
    "\n",
    "\\begin{align}\n",
    "    \\dot i_{11} &= \\frac{1}{L_{11}} \\left( u_{in1}  - R_{11} i_{11} - R_{RC1} i_{RC1} - u_{C12} \\right), \\\\\n",
    "    \\dot u_{C11} &= \\frac{1}{C_{11}R_{C11}} \\left(u_{Cb11} - u_{RC1} \\right), \\\\\n",
    "    \\dot i_{Rb1} &= \\frac{1}{L_{b1}} \\left( u_{Cb11} - i_{Rb1} R_{b1} \\right),\\\\\n",
    "    \\dot i_{LL} &= \\frac{1}{L_{L}} u_{CL}\\\\\n",
    "    \\dot i_{Rb2} &= \\frac{1}{L_{b2}} \\left( u_{Cb12} - i_{Rb2} R_{b2} - u_{Cb22}\\right),\\\\\n",
    "    \\dot i_{22} &= \\frac{1}{L_{22}} \\left( u_{C12}  - i_{22} (R_{C2}+R_{22}) - R_{RC1} i_{RC2} - u_{Cb12} \\right), \\\\\n",
    "    \\dot i_{12} &= \\frac{1}{L_{12}} \\left( u_{in2}  - i_{12} (R_{12} + R_{RC1}) - R_{RC1} i_{C1} - u_{C12} \\right), \\\\\n",
    "    \\dot u_{Cb11} &= \\frac{1}{C_{b1}} \\left(i_{11} - i_{Rb1} - \\frac{1}{R_{C1}} u_{Cb11} + \\frac{1}{R_{C1}} u_{C11}\\right)\\\\\n",
    "    \\dot u_{CSL} &= \\frac{1}{C_{SL}} \\left( i_{Rb1} + i_{Rb2} - \\frac{1}{R_{L}} u_{CSL} - i_{LL} \\right)\\\\\n",
    "    \\dot u_{Cb12} &= \\frac{1}{C_{b2}} \\left(i_{22} - i_{Rb2}\\right).\\\\\n",
    "    \\dot u_{C12} &= \\frac{1}{C_{12}} \\left(i_{12} - i_{22}\\right).\\\\\n",
    "\\end{align}\n",
    "\n",
    "These differential equations describe the system completely. They can be solved by numerical solvers like Forward Euler or Runge-Kutta. "
   ]
  },
  {
   "cell_type": "markdown",
   "id": "8cba7e89",
   "metadata": {},
   "source": [
    "### Forming the system matrices from the DEs"
   ]
  },
  {
   "cell_type": "markdown",
   "id": "41fb7b45",
   "metadata": {},
   "source": [
    "The differential equations found are now to be converted into the common state-space representation:\n",
    "\n",
    "\\begin{align}\n",
    "    \\dot{\\vec{x}}(t) &= \\mathbf{A} \\vec{x}(t) + \\mathbf{B} \\vec{u}(t)\\\\\n",
    "    \\vec{y}(t) &= \\mathbf{C} \\vec{x}(t) + \\mathbf{D} \\vec{u}(t)\n",
    "\\end{align}\n",
    "\n",
    "Since we are interested in how our grid evolves over time, the first equation is most relevant to our application. $x(t)$ describes in general the state vector respectively $\\dot x(t)$ the changes of this state vector. The change of the system is described on the one hand by the system dynamics, which is expressed by the matrix $\\mathbf{A}$ and on the other hand by the input signals $u(t)$ acting on the system combined with the matrix $\\mathbf{B}$.\n",
    "\n",
    "For our example, we can find the following state vector:\n",
    "\n",
    "\\begin{equation}\n",
    "    \\vec{x}(t) = \n",
    "    \\begin{pmatrix}\n",
    "        i_{11} & u_{C11} & u_{Cb11}  & i_{12} & u_{C12} & i_{22} & u_{Cb12} & i_{Rb1} & i_{Rb2} & u_{CSL} & i_{LL}\n",
    "    \\end{pmatrix}^\\top\n",
    "\\end{equation}\n",
    "\n",
    "and the following input vector:\n",
    "\n",
    "\\begin{equation}\n",
    "    \\vec{u}(t) = \n",
    "    \\begin{pmatrix}\n",
    "        u_{in1} & u_{in2}\n",
    "    \\end{pmatrix}^\\top.\n",
    "\\end{equation}\n",
    "\n",
    "It should be noted that the order of the states was adjusted so that first sources, then cables and finally loads were considered. \n",
    "\n",
    "This then leads for our example to the following matrices:\n",
    "\n",
    "\\begin{equation}\n",
    "    \\mathbf{A} = \n",
    "    \\begin{pmatrix}\n",
    "        -\\frac{R_{11}}{L_{11}} & 0 & -\\frac{1}{L_{11}} & 0 & 0 & 0 & 0 & 0 & 0 & 0 & 0\\\\\n",
    "        0 & -\\frac{1}{C_{11} R_{C1}} & \\frac{1}{C_{11} R_{C1}} & 0 & 0 & 0 & 0 & 0 & 0 & 0 & 0\\\\\n",
    "        \\frac{1}{C_{b1}} & \\frac{1}{C_{b1} R_{C1}} & -\\frac{1}{C_{b1} R_{C1}} & 0 & 0 & 0 & 0 & -\\frac{1}{C_{b1}} & 0 & 0 & 0\\\\\n",
    "        0 & 0 & 0 & -\\frac{R_{12} + R_{C2}}{L_{12}} & -\\frac{1}{L_{12}} & \\frac{R_{C2}}{L_{12}} & 0 & 0 & 0 & 0 & 0\\\\\n",
    "        0 & 0 & 0 & \\frac{1}{C_{12}} & 0 & -\\frac{1}{C_{12}} & 0 & 0 & 0 & 0 & 0\\\\\n",
    "        0 & 0 & 0 & \\frac{R_{C2}}{L_{22}} & \\frac{1}{L_{22}} & -\\frac{R_{22} + R_{C2}}{L_{22}} & -\\frac{1}{L_{22}} &0&0&0&0\\\\\n",
    "        0 & 0 & 0 & 0 & 0 & \\frac{1}{C_{b2}} & 0 & 0 & -\\frac{1}{C_{b2}} & 0 & 0\\\\\n",
    "        0 & 0 & \\frac{1}{L_{b1}} & 0 & 0 & 0 & 0 & -\\frac{R_{b1}}{L_{b1}} & 0 & -\\frac{1}{L_{b1}} & 0\\\\\n",
    "        0 & 0 & 0 & 0 & 0 & 0 & \\frac{1}{L_{b2}} & 0 & -\\frac{R_{b2}}{L_{b1}} & -\\frac{1}{L_{b2}} & 0\\\\\n",
    "        0 & 0 & 0 & 0 & 0 & 0 & 0 & \\frac{1}{C_{SL}} & \\frac{1}{C_{SL}} & -\\frac{1}{R_{L} C_{SL}} & -\\frac{1}{C_{SL}}\\\\\n",
    "        0 & 0 & 0 & 0 & 0 & 0 & 0 & 0 & 0 & 0 & \\frac{1}{L_{L}}\\\\\n",
    "    \\end{pmatrix}\n",
    "\\end{equation}\n",
    "\n",
    "and\n",
    "\n",
    "\\begin{equation}\n",
    "    \\mathbf{B} = \n",
    "    \\begin{pmatrix}\n",
    "        \\frac{1}{L_{11}} & 0 \\\\\n",
    "        0 & 0 \\\\\n",
    "        0 & 0 \\\\\n",
    "        0 & 0 \\\\\n",
    "        0 & \\frac{1}{L_{12}} \\\\\n",
    "        0 & 0 \\\\\n",
    "        0 & 0 \\\\\n",
    "        0 & 0 \\\\\n",
    "        0 & 0 \\\\\n",
    "        0 & 0 \\\\\n",
    "        0 & 0 \\\\\n",
    "    \\end{pmatrix}\n",
    "\\end{equation}"
   ]
  },
  {
   "cell_type": "markdown",
   "id": "16db875a",
   "metadata": {},
   "source": [
    "### Solving the ODE system"
   ]
  },
  {
   "cell_type": "markdown",
   "id": "ffc56bfb",
   "metadata": {},
   "source": [
    "Theory"
   ]
  },
  {
   "cell_type": "markdown",
   "id": "95976fdc",
   "metadata": {},
   "source": [
    "We now have the state space matrices we need to simulate the grid. To solve the differential equations there are several tools, we use the `ControlSystem` package, to be more precise the `lsim()` function. (AST Lecture 3, Slide A_d 47 folgende, Quelle)"
   ]
  },
  {
   "cell_type": "code",
   "execution_count": null,
   "id": "f8fb4835",
   "metadata": {},
   "outputs": [],
   "source": [
    "using ControlSystemsBase\n",
    "using LinearAlgebra\n",
    "using PlotlyJS"
   ]
  },
  {
   "cell_type": "markdown",
   "id": "d6f38a88",
   "metadata": {},
   "source": [
    "Next we define some the values of the components:"
   ]
  },
  {
   "cell_type": "code",
   "execution_count": null,
   "id": "d482f2b5",
   "metadata": {},
   "outputs": [],
   "source": [
    "# Source\n",
    "R = 1.1e-3\n",
    "L = 7e-5\n",
    "R_c = 7e-3\n",
    "C = 250e-6\n",
    "\n",
    "# Cable\n",
    "C_b = 1e-4/2\n",
    "L_b = 1e-4\n",
    "R_b = 1e-3\n",
    "\n",
    "# Load\n",
    "R_l = 100\n",
    "C_l = 1e-2\n",
    "L_l = 1e-2;"
   ]
  },
  {
   "cell_type": "markdown",
   "id": "88a2eec9",
   "metadata": {},
   "source": [
    "Now we construct the A-matrix:"
   ]
  },
  {
   "cell_type": "code",
   "execution_count": null,
   "id": "090afbdf",
   "metadata": {},
   "outputs": [],
   "source": [
    "A = zeros((11,11))\n",
    "A[1,1] = -R/L\n",
    "A[1,3] = -1/L\n",
    "A[2,2] = -1/(C*R_c)\n",
    "A[2,3] = 1/(C*R_c)\n",
    "A[3,1] = 1/C_b\n",
    "A[3,2] = 1/(R_c*C_b)\n",
    "A[3,3] = -1/(R_c*C_b)\n",
    "A[3,8] = -1/C_b\n",
    "A[4,4] = -(R+R_c)/L\n",
    "A[4,5] = -1/L\n",
    "A[4,6] = R_c/L\n",
    "A[5,4] = 1/C\n",
    "A[5,6] = -1/C\n",
    "A[6,4] = R_c/L\n",
    "A[6,5] = 1/L\n",
    "A[6,6] = -(R+R_c)/L\n",
    "A[6,7] = -1/L\n",
    "A[7,6] = 1/C_b\n",
    "A[7,9] = -1/C_b\n",
    "A[8,3] = 1/L_b\n",
    "A[8,8] = -R_b/L_b\n",
    "A[8,10] = -1/L_b\n",
    "A[9,7] = 1/L_b\n",
    "A[9,9] = -R_b/L_b\n",
    "A[9,10] = -1/L_b\n",
    "\n",
    "C_SL = C_b + C_l + C_b\n",
    "\n",
    "A[10,8] = 1/C_SL\n",
    "A[10,9] = 1/C_SL\n",
    "A[10,10] = -1/(R_l*C_SL)\n",
    "A[10,11] = -1/C_SL\n",
    "A[11,10] = 1/L_l"
   ]
  },
  {
   "cell_type": "code",
   "execution_count": null,
   "id": "41ebed15",
   "metadata": {},
   "outputs": [],
   "source": [
    "A[3,:]"
   ]
  },
  {
   "cell_type": "code",
   "execution_count": null,
   "id": "1f9eb4d6",
   "metadata": {
    "scrolled": true
   },
   "outputs": [],
   "source": [
    "B = zeros((11,2))\n",
    "\n",
    "B[1,1] = 1/L\n",
    "B[5,2] = 1/L;"
   ]
  },
  {
   "cell_type": "code",
   "execution_count": null,
   "id": "3b22bb4d",
   "metadata": {},
   "outputs": [],
   "source": [
    "B"
   ]
  },
  {
   "cell_type": "code",
   "execution_count": null,
   "id": "4f75dafc",
   "metadata": {},
   "outputs": [],
   "source": [
    "C = Diagonal(ones(11));"
   ]
  },
  {
   "cell_type": "code",
   "execution_count": null,
   "id": "0489b4cd",
   "metadata": {},
   "outputs": [],
   "source": [
    "D = 0;"
   ]
  },
  {
   "cell_type": "markdown",
   "id": "60833611",
   "metadata": {},
   "source": [
    "We convert the matrices into the discrete time domain and create a discrete StateSpace object with the help of `ControlSystems`. This object can then represent the dynamics of the system for a given time interval using the function `lsim()`."
   ]
  },
  {
   "cell_type": "code",
   "execution_count": null,
   "id": "c9d91037",
   "metadata": {},
   "outputs": [],
   "source": [
    "ts = 1e-5\n",
    "Ad = exp(A*ts)\n",
    "Bd = A \\ (Ad - C) * B\n",
    "sys_d = StateSpace(Ad, Bd, C, D, ts);"
   ]
  },
  {
   "cell_type": "code",
   "execution_count": null,
   "id": "ce129037",
   "metadata": {},
   "outputs": [],
   "source": [
    "ns = length(A[1,:]) # get num of states\n",
    "ni = length(B[1,:]) # get num of inputs\n",
    "t = collect(0:ts:0.1)\n",
    "x0 = [0.0 for i = 1:ns]\n",
    "u = [230.0 for i = 1:length(t)]\n",
    "uu = [u for i = 1:ni ]\n",
    "uuu = mapreduce(permutedims, vcat, uu);"
   ]
  },
  {
   "cell_type": "markdown",
   "id": "7389beff",
   "metadata": {},
   "source": [
    "To use `lsim()` you need defined initial states `x0`, a time vector `t` and a input signal `u`. In our case we apply a jump to 250 V to the system."
   ]
  },
  {
   "cell_type": "code",
   "execution_count": null,
   "id": "8022be1f",
   "metadata": {},
   "outputs": [],
   "source": [
    "xout, _, _, _ = lsim(sys_d,uuu,t,x0=x0);"
   ]
  },
  {
   "cell_type": "code",
   "execution_count": null,
   "id": "e0dd18e1",
   "metadata": {
    "scrolled": false
   },
   "outputs": [],
   "source": [
    "layout = Layout(xaxis_title=\"Time in µs\", yaxis_title=\"v_C / V\")\n",
    "p = plot(t, xout[11,:], layout)"
   ]
  },
  {
   "cell_type": "markdown",
   "id": "7db2b578",
   "metadata": {},
   "source": [
    "### WIe können wir das nun automatisch generieren?"
   ]
  },
  {
   "cell_type": "code",
   "execution_count": null,
   "id": "5c4caba8",
   "metadata": {},
   "outputs": [],
   "source": []
  },
  {
   "cell_type": "code",
   "execution_count": null,
   "id": "ee5050a2",
   "metadata": {},
   "outputs": [],
   "source": []
  },
  {
   "cell_type": "code",
   "execution_count": null,
   "id": "bd1558c3",
   "metadata": {},
   "outputs": [],
   "source": []
  },
  {
   "cell_type": "code",
   "execution_count": null,
   "id": "ad8e5407",
   "metadata": {},
   "outputs": [],
   "source": []
  },
  {
   "cell_type": "code",
   "execution_count": null,
   "id": "3e8ea867",
   "metadata": {},
   "outputs": [],
   "source": []
  },
  {
   "cell_type": "markdown",
   "id": "22d57658",
   "metadata": {},
   "source": [
    "This notebook is intended to show the functionality of the NodeConstructor. The custom structure is used to generate the ODE system of a energy grid. The grid can ether be externally specified or randomly generated. The goal is then to create the grid given the parameters of the objects within and generate the ODEs, which will then be output in the state space representation and can be solved using `lsim()` within the ControlSystems ([Source](https://juliacontrol.github.io/ControlSystems.jl/latest/man/creating_systems/#ss-Creating-State-Space-Systems))."
   ]
  },
  {
   "cell_type": "code",
   "execution_count": null,
   "id": "08e01153",
   "metadata": {},
   "outputs": [],
   "source": [
    "# Import the package\n",
    "using JEG\n",
    "\n",
    "# ... and some specail tools we need later\n",
    "using ControlSystemsBase\n",
    "using JSON\n",
    "using PlotlyJS\n",
    "using LinearAlgebra"
   ]
  },
  {
   "cell_type": "markdown",
   "id": "c160db41",
   "metadata": {},
   "source": [
    "Insert simple example"
   ]
  },
  {
   "cell_type": "code",
   "execution_count": null,
   "id": "cebc780e",
   "metadata": {},
   "outputs": [],
   "source": [
    "- Simplest example"
   ]
  },
  {
   "cell_type": "markdown",
   "id": "268f1c74",
   "metadata": {},
   "source": [
    "- Structure of JEG where sits the NC"
   ]
  },
  {
   "cell_type": "markdown",
   "id": "1eabf77a",
   "metadata": {},
   "source": [
    "## Step by step guide for the construction of a simple grid"
   ]
  },
  {
   "cell_type": "markdown",
   "id": "35c5c9a7",
   "metadata": {},
   "source": [
    "In this example, the goal is to build a simple node. The individual parameters of the NodeConstructor function are explained in detail in order to get a good intuition for the underlying functionalities."
   ]
  },
  {
   "cell_type": "markdown",
   "id": "697dede9",
   "metadata": {},
   "source": [
    "### Connection Matrix"
   ]
  },
  {
   "cell_type": "markdown",
   "id": "802c6d69",
   "metadata": {},
   "source": [
    "Picture of CM and Grid which results out of it"
   ]
  },
  {
   "cell_type": "markdown",
   "id": "6c4bb567",
   "metadata": {},
   "source": [
    "- equivalent circuit diagram"
   ]
  },
  {
   "cell_type": "markdown",
   "id": "5b644aa3",
   "metadata": {},
   "source": [
    "One of the core elements of the NodeConstructor is the Connection Matrix (CM). It specifies how the elements of the node are connected. Possible elements that can appear in such a network are on the one hand sources, on the other hand loads. If we want to create a node with two sources and one load, the corresponding CM matrix could looks like this:"
   ]
  },
  {
   "cell_type": "code",
   "execution_count": null,
   "id": "937a199a",
   "metadata": {},
   "outputs": [],
   "source": [
    "CM = [ 0  0  1\n",
    "       0  0  2\n",
    "      -1 -2  0];"
   ]
  },
  {
   "cell_type": "markdown",
   "id": "822ae85f",
   "metadata": {},
   "source": [
    "An entry in the CM reads as follows: Element x (row) is connected to element y (column) via connection line z.\n",
    "\n",
    "x ---z---> y\n",
    "\n",
    "The rows and columns are arranged in such a way that first only sources and then only loads are noted. For this example we need 2 sources and 1 load, so the following is a CM of size 3x3. The connection from the first source to the load is then marked by the entry \"1\" in `CM[1,3]`. We can read this as: The first source is connected to the load via cable one. For the second source the same applies with the entry \"2\" in `CM[2,3]`. Since a source and neither a load cannot be connected to itself, there are zeros on the main diagonal.\n",
    "\n",
    "The matrix is always antisymmetrical, therefore the same entries are found on the opposing diagonal, but with a negative sign. We can interpret the signs as assumed current direction."
   ]
  },
  {
   "cell_type": "markdown",
   "id": "6f0148ee",
   "metadata": {},
   "source": [
    "## Parameter Dict"
   ]
  },
  {
   "cell_type": "code",
   "execution_count": null,
   "id": "da025735",
   "metadata": {},
   "outputs": [],
   "source": []
  },
  {
   "cell_type": "markdown",
   "id": "47fa6f04",
   "metadata": {},
   "source": [
    "Check if doubled"
   ]
  },
  {
   "cell_type": "code",
   "execution_count": null,
   "id": "bb91be78",
   "metadata": {},
   "outputs": [],
   "source": []
  },
  {
   "cell_type": "markdown",
   "id": "0d5f51d6",
   "metadata": {},
   "source": [
    "Next, we want to set the parameters of our elements.\n",
    "\n",
    "The sources differ in the various filter types. Currently, one can decide between L, LC and LCL filters. We use two LCL filters. The parameters of a source are then stored in a dict:"
   ]
  },
  {
   "cell_type": "code",
   "execution_count": null,
   "id": "bcdcb123",
   "metadata": {},
   "outputs": [],
   "source": [
    "source = Dict()\n",
    "\n",
    "source[\"fltr\"] = \"LCL\"\n",
    "source[\"R1\"] = 0.4\n",
    "source[\"R2\"] = 0.4\n",
    "source[\"R_C\"] = 0.4\n",
    "source[\"L1\"] = 2.3e-3\n",
    "source[\"L2\"] = 2.3e-3\n",
    "source[\"C\"] = 10e-6;"
   ]
  },
  {
   "cell_type": "markdown",
   "id": "8db7a7a0",
   "metadata": {},
   "source": [
    "We get a separate dict for each source, which are then stored in a list."
   ]
  },
  {
   "cell_type": "code",
   "execution_count": null,
   "id": "0c20dffc",
   "metadata": {},
   "outputs": [],
   "source": [
    "source_list = []\n",
    "push!(source_list, source, source);"
   ]
  },
  {
   "cell_type": "code",
   "execution_count": null,
   "id": "808e40cb",
   "metadata": {},
   "outputs": [],
   "source": [
    "source_list"
   ]
  },
  {
   "cell_type": "markdown",
   "id": "9ca3a18f",
   "metadata": {},
   "source": [
    "Also for the load a dict must be created in which the parameters are defined. Currently, resistive, inductive and capacitive loads as well as all combinations of these types can be created. The loads are then also gathered in a list."
   ]
  },
  {
   "cell_type": "code",
   "execution_count": null,
   "id": "c7a6d37b",
   "metadata": {},
   "outputs": [],
   "source": [
    "load = Dict()\n",
    "load[\"impedance\"] = \"R\"\n",
    "load[\"R\"] = 14;\n",
    "\n",
    "load_list = []\n",
    "push!(load_list, load);"
   ]
  },
  {
   "cell_type": "markdown",
   "id": "1576a1a9",
   "metadata": {},
   "source": [
    "And the same also for the cables in the network."
   ]
  },
  {
   "cell_type": "code",
   "execution_count": null,
   "id": "30a9b118",
   "metadata": {},
   "outputs": [],
   "source": [
    "cable_list = []\n",
    "\n",
    "cable = Dict()\n",
    "cable[\"R\"] = 0.4\n",
    "cable[\"L\"] = 2.3e-3\n",
    "cable[\"C\"] = 1e-20;\n",
    "\n",
    "push!(cable_list, cable, cable);"
   ]
  },
  {
   "cell_type": "markdown",
   "id": "a3dffd85",
   "metadata": {},
   "source": [
    "The individual lists are then collected again in a parameter dict."
   ]
  },
  {
   "cell_type": "code",
   "execution_count": null,
   "id": "63690d8b",
   "metadata": {},
   "outputs": [],
   "source": [
    "parameters = Dict()\n",
    "\n",
    "parameters[\"source\"] = source_list\n",
    "parameters[\"cable\"] = cable_list\n",
    "parameters[\"load\"] = load_list;"
   ]
  },
  {
   "cell_type": "markdown",
   "id": "a042cd70",
   "metadata": {},
   "source": [
    "The number of phases, the sampling frequency and the mains voltage, for example, can also be specified as additional hyperparameters."
   ]
  },
  {
   "cell_type": "code",
   "execution_count": null,
   "id": "2ab1ed0c",
   "metadata": {},
   "outputs": [],
   "source": [
    "grid_properties = Dict()\n",
    "grid_properties[\"fs\"] =  10e3\n",
    "grid_properties[\"v_rms\"] = 230\n",
    "grid_properties[\"phase\"] = 1;"
   ]
  },
  {
   "cell_type": "markdown",
   "id": "eef63d00",
   "metadata": {},
   "source": [
    "We add this to the overall parameters."
   ]
  },
  {
   "cell_type": "code",
   "execution_count": null,
   "id": "736b1c58",
   "metadata": {},
   "outputs": [],
   "source": [
    "parameters[\"grid\"] = grid_properties"
   ]
  },
  {
   "cell_type": "code",
   "execution_count": null,
   "id": "684d7774",
   "metadata": {},
   "outputs": [],
   "source": []
  },
  {
   "cell_type": "markdown",
   "id": "cc97cd9d",
   "metadata": {},
   "source": [
    "More detailed: Explain where the ODE come from. Where does the states come from."
   ]
  },
  {
   "cell_type": "code",
   "execution_count": null,
   "id": "89649ae8",
   "metadata": {},
   "outputs": [],
   "source": []
  },
  {
   "cell_type": "markdown",
   "id": "0280c359",
   "metadata": {},
   "source": [
    "## The NodeConstructor"
   ]
  },
  {
   "cell_type": "markdown",
   "id": "122cad66",
   "metadata": {},
   "source": [
    "Now a network defined by us can be created. Important here: The number of sources and loads must be passed as parameters!"
   ]
  },
  {
   "cell_type": "code",
   "execution_count": null,
   "id": "b983b1c9",
   "metadata": {},
   "outputs": [],
   "source": [
    "S2_L1 = NodeConstructor(num_sources=2, num_loads=1, CM=CM);"
   ]
  },
  {
   "cell_type": "markdown",
   "id": "70324bfa",
   "metadata": {},
   "source": [
    "With the function `DrawGraph()` the topology of the grid can now be displayed. Here, the color orange corresponds to a source and the color blue corresponds to a load."
   ]
  },
  {
   "cell_type": "code",
   "execution_count": null,
   "id": "0dfea61e",
   "metadata": {},
   "outputs": [],
   "source": [
    "DrawGraph(S2_L1)"
   ]
  },
  {
   "cell_type": "markdown",
   "id": "84112f3f",
   "metadata": {},
   "source": [
    "After the grid has been created it can be passed to the function `GetSystem()`, which then returns the matrices for the state space representation in the continous time domain."
   ]
  },
  {
   "cell_type": "markdown",
   "id": "7d6a971e",
   "metadata": {},
   "source": [
    "-Where does the matrix come from?"
   ]
  },
  {
   "cell_type": "code",
   "execution_count": null,
   "id": "d32b4cfa",
   "metadata": {},
   "outputs": [],
   "source": [
    "A, B, C, D = GetSystem(S2_L1);"
   ]
  },
  {
   "cell_type": "markdown",
   "id": "4a4820db",
   "metadata": {},
   "source": [
    "We convert the matrices into the discrete time domain and create a discrete StateSpace object with the help of `ControlSystems`. This object can then represent the dynamics of the system for a given time interval using the function `lsim()`."
   ]
  },
  {
   "cell_type": "code",
   "execution_count": null,
   "id": "2bbbfcb5",
   "metadata": {},
   "outputs": [],
   "source": [
    "ts = 1e-5\n",
    "Ad = exp(A*ts)\n",
    "Bd = A \\ (Ad - C) * B\n",
    "sys_d = StateSpace(Ad, Bd, C, D, ts);"
   ]
  },
  {
   "cell_type": "markdown",
   "id": "a9d76899",
   "metadata": {},
   "source": [
    "To use `lsim()` you need defined initial states `x0`, a time vector `t` and a input signal `u`. In our case we apply a jump to 250 V to the system."
   ]
  },
  {
   "cell_type": "code",
   "execution_count": null,
   "id": "6560be47",
   "metadata": {},
   "outputs": [],
   "source": [
    "ns = length(A[1,:]) # get num of states\n",
    "ni = length(B[1,:]) # get num of inputs\n",
    "t = collect(0:ts:0.1)\n",
    "x0 = [0.0 for i = 1:ns]\n",
    "u = [250.0 for i = 1:length(t)]\n",
    "uu = [u for i = 1:ni ]\n",
    "uuu = mapreduce(permutedims, vcat, uu);"
   ]
  },
  {
   "cell_type": "markdown",
   "id": "b5e40cc1",
   "metadata": {},
   "source": [
    "`lsim()` now solves the difference equations for the given time steps and we can observe how the states evolve."
   ]
  },
  {
   "cell_type": "code",
   "execution_count": null,
   "id": "27941a42",
   "metadata": {},
   "outputs": [],
   "source": [
    "xout, _, _, _ = lsim(sys_d,uuu,t,x0=x0);"
   ]
  },
  {
   "cell_type": "markdown",
   "id": "24fd6961",
   "metadata": {},
   "source": [
    "Here we plot the voltage across the capacitor in the first source."
   ]
  },
  {
   "cell_type": "code",
   "execution_count": null,
   "id": "1002c3bd",
   "metadata": {},
   "outputs": [],
   "source": [
    "layout = Layout(xaxis_title=\"Time in µs\", yaxis_title=\"v_C / V\")\n",
    "p = plot(t, xout[2,:], layout)"
   ]
  },
  {
   "cell_type": "code",
   "execution_count": null,
   "id": "b59b091d",
   "metadata": {},
   "outputs": [],
   "source": []
  },
  {
   "cell_type": "markdown",
   "id": "bc923842",
   "metadata": {},
   "source": [
    "Manuell parameterization"
   ]
  },
  {
   "cell_type": "markdown",
   "id": "02751bee",
   "metadata": {},
   "source": [
    ".... Split up here ....."
   ]
  },
  {
   "cell_type": "markdown",
   "id": "ba4d3658",
   "metadata": {},
   "source": [
    "Automatic generation"
   ]
  },
  {
   "cell_type": "markdown",
   "id": "a6c7be65",
   "metadata": {},
   "source": [
    "## Automatic generation of the grids"
   ]
  },
  {
   "cell_type": "markdown",
   "id": "d86d2d3e",
   "metadata": {},
   "source": [
    "An important feature is the creation of random node structures, where the parameters of the elements are chosen randomly. For fully connected structures, this can be generated, for example, using the parameters `S2S_p`, `L2L_p` and `S2L_p`. These indicate the connection probability of a source/load with any other source/load. If these parameters are set to 1, a fully connected node is generated."
   ]
  },
  {
   "cell_type": "code",
   "execution_count": null,
   "id": "856b41db",
   "metadata": {
    "scrolled": true
   },
   "outputs": [],
   "source": [
    "S2_L2_FC = NodeConstructor(num_sources=2, num_loads=2, S2S_p=1, S2L_p=1);"
   ]
  },
  {
   "cell_type": "markdown",
   "id": "fdba3e51",
   "metadata": {},
   "source": [
    "Let's check the CM matrix."
   ]
  },
  {
   "cell_type": "code",
   "execution_count": null,
   "id": "4b727ee6",
   "metadata": {},
   "outputs": [],
   "source": [
    "S2_L2_FC.CM"
   ]
  },
  {
   "cell_type": "markdown",
   "id": "be551e90",
   "metadata": {},
   "source": [
    "With a look into the parameter dict we also see that the parameters of the individual elements were randomly generated. The current policy for the sources is that an LC filter is always taken and the other filter types are chosen randomly."
   ]
  },
  {
   "cell_type": "code",
   "execution_count": null,
   "id": "359aba05",
   "metadata": {},
   "outputs": [],
   "source": [
    "S2_L2_FC.parameters[\"source\"]"
   ]
  },
  {
   "cell_type": "markdown",
   "id": "65d4b92e",
   "metadata": {},
   "source": [
    "For larger networks, of course, only the number of sources and loads can be handed over, so that the network structures are created on the basis of the default values. An important point here is that it is ensured that no subnets are created. By default, it is ensured that each element of the network has at least one connection to the other components of the network, so that no subnetworks are created.\n",
    "\n",
    "Internally, this is done by checking for connections for each element. If these are not present, they are automatically created. For smaller networks it is advisable to specify a CM matrix, because otherwise usually too many connections are made than necessary. However, this is no longer noticeable with more than 10+ elements."
   ]
  },
  {
   "cell_type": "code",
   "execution_count": null,
   "id": "f66105c5",
   "metadata": {},
   "outputs": [],
   "source": [
    "S5_L15 = NodeConstructor(num_sources=5, num_loads=15);"
   ]
  },
  {
   "cell_type": "markdown",
   "id": "ac00ae85",
   "metadata": {},
   "source": [
    "## Three-phase simulation"
   ]
  },
  {
   "cell_type": "markdown",
   "id": "7a33f4b0",
   "metadata": {},
   "source": [
    "Until now, only single-phase grids have been created with NodeConstructor. However, the default value for the number of phases is 3, so we will now also consider the three-phase variant."
   ]
  },
  {
   "cell_type": "code",
   "execution_count": null,
   "id": "fe8f5597",
   "metadata": {},
   "outputs": [],
   "source": [
    "S5_L15 = NodeConstructor(num_sources=1, num_loads=2);"
   ]
  },
  {
   "cell_type": "code",
   "execution_count": null,
   "id": "81b0cdf7",
   "metadata": {},
   "outputs": [],
   "source": [
    "S5_L15.parameters[\"grid\"][\"phase\"]"
   ]
  },
  {
   "cell_type": "code",
   "execution_count": null,
   "id": "d729c3d6",
   "metadata": {},
   "outputs": [],
   "source": [
    "A, B, C, D = GetSystem(S5_L15)\n",
    "ts = 1e-4\n",
    "Ad = exp(A*ts)\n",
    "Bd = A \\ (Ad - C) * B\n",
    "sys_d = StateSpace(Ad, Bd, C, D, ts);"
   ]
  },
  {
   "cell_type": "markdown",
   "id": "9d155c22",
   "metadata": {},
   "source": [
    "We then collect a few useful variables and set the time horizon for the simulation."
   ]
  },
  {
   "cell_type": "code",
   "execution_count": null,
   "id": "6742eae7",
   "metadata": {},
   "outputs": [],
   "source": [
    "ns = S5_L15.num_spp  # get num of states per phase\n",
    "ni = S5_L15.num_sources # get num of inputs per phase\n",
    "t = collect(0:ts:1);"
   ]
  },
  {
   "cell_type": "markdown",
   "id": "25503285",
   "metadata": {},
   "source": [
    "Next we want to generate the three-phase input signals and repeat it for the number of sources:"
   ]
  },
  {
   "cell_type": "code",
   "execution_count": null,
   "id": "4a2ba415",
   "metadata": {},
   "outputs": [],
   "source": [
    "# Stepfunction\n",
    "u = sqrt(2)*[230, 0, -230]\n",
    "uu = repeat(u, inner=ni) .* ones(length(t))';"
   ]
  },
  {
   "cell_type": "code",
   "execution_count": null,
   "id": "9a9758b7",
   "metadata": {},
   "outputs": [],
   "source": [
    "# Sin wave\n",
    "u = [230 * sin.(2*pi*t .- 2/3*pi*(i-1)) for i = 1:3]\n",
    "uu = transpose(hcat(repeat(u[1], inner=[1,ni]),repeat(u[2], inner=[1,ni]),repeat(u[3], inner=[1,ni])));"
   ]
  },
  {
   "cell_type": "markdown",
   "id": "38b7c27f",
   "metadata": {},
   "source": [
    "Lets have a look:"
   ]
  },
  {
   "cell_type": "code",
   "execution_count": null,
   "id": "398e536e",
   "metadata": {},
   "outputs": [],
   "source": [
    "layout = Layout(xaxis_title=\"Time in µs\", yaxis_title=\"U in V\")\n",
    "input = 1\n",
    "\n",
    "phase_a = scatter(x=t, y=uu[input+ni*0,:], mode=\"lines\", name=\"Phase A\")\n",
    "phase_b = scatter(x=t, y=uu[input+ni*1,:], mode=\"lines\", name=\"Phase B\")\n",
    "phase_c = scatter(x=t, y=uu[input+ni*2,:], mode=\"lines\", name=\"Phase C\")\n",
    "\n",
    "plot([phase_a, phase_b, phase_c], layout)"
   ]
  },
  {
   "cell_type": "markdown",
   "id": "d6cec2be",
   "metadata": {},
   "source": [
    "Again, the discretized matrices can now be used to model the grid."
   ]
  },
  {
   "cell_type": "code",
   "execution_count": null,
   "id": "c4f34ffc",
   "metadata": {},
   "outputs": [],
   "source": [
    "x0 = [0.0 for i = 1:ns*3]\n",
    "xout, _, _, _ = lsim(sys_d,uu,t,x0=x0);"
   ]
  },
  {
   "cell_type": "markdown",
   "id": "8fb97bff",
   "metadata": {},
   "source": [
    "Now a state can be selected and the corresponding trajectories can be plotted."
   ]
  },
  {
   "cell_type": "code",
   "execution_count": null,
   "id": "5ac6268d",
   "metadata": {},
   "outputs": [],
   "source": [
    "state_list = GetStateIds(S5_L15)"
   ]
  },
  {
   "cell_type": "code",
   "execution_count": null,
   "id": "50497cac",
   "metadata": {},
   "outputs": [],
   "source": [
    "state = 3\n",
    "state_list = GetStateIds(S5_L15)\n",
    "\n",
    "layout = Layout(xaxis_title=\"Time in µs\", yaxis_title=\"$(state_list[state]) in V\")\n",
    "\n",
    "phase_a = scatter(x=t, y=xout[state+ns*0,:], mode=\"lines\", name=\"Phase A\")\n",
    "phase_b = scatter(x=t, y=xout[state+ns*1,:], mode=\"lines\", name=\"Phase B\")\n",
    "phase_c = scatter(x=t, y=xout[state+ns*2,:], mode=\"lines\", name=\"Phase C\")\n",
    "\n",
    "plot([phase_a, phase_b, phase_c], layout)\n"
   ]
  },
  {
   "cell_type": "markdown",
   "id": "6c2b3872",
   "metadata": {},
   "source": [
    "## Access to the different states"
   ]
  },
  {
   "cell_type": "markdown",
   "id": "2ac99a0c",
   "metadata": {},
   "source": [
    "A way to get the different states of our NodeConstructor is to use the function `GetStateIds()`."
   ]
  },
  {
   "cell_type": "code",
   "execution_count": null,
   "id": "1410bd96",
   "metadata": {},
   "outputs": [],
   "source": [
    "state_list = GetStateIds(S5_L15)"
   ]
  },
  {
   "cell_type": "markdown",
   "id": "a8f3115f",
   "metadata": {},
   "source": [
    "The IDs created here are unique and can be used to access particular states. When creating the IDs, the sources are checked first in the order LCL, LC and then L. Then the cables are listed, which are also arranged in order. For the loads the order is RLC, LC, RL, L, RC, C and then R.\n",
    "\n",
    "For the three-phase case, the state IDs are repeated and the respective phase is added.\n",
    "\n",
    "These can then be accessed as follows:"
   ]
  },
  {
   "cell_type": "code",
   "execution_count": null,
   "id": "16cb151a",
   "metadata": {},
   "outputs": [],
   "source": [
    "state = 3\n",
    "println(state_list[state+ns*0])\n",
    "println(state_list[state+ns*1])\n",
    "println(state_list[state+ns*2])"
   ]
  },
  {
   "cell_type": "markdown",
   "id": "7df87a77",
   "metadata": {},
   "source": [
    "Or:"
   ]
  },
  {
   "cell_type": "code",
   "execution_count": null,
   "id": "3bad98ee",
   "metadata": {},
   "outputs": [],
   "source": [
    "state = \"source1_i_L1\"\n",
    "idx_of_state = findall(x->occursin(state, x), state_list)\n",
    "idx = idx_of_state"
   ]
  },
  {
   "cell_type": "code",
   "execution_count": null,
   "id": "18ac1c00",
   "metadata": {},
   "outputs": [],
   "source": [
    "state = \"source1_i_L1_a\"\n",
    "idx_of_state = findall(x->occursin(state, x), state_list)\n",
    "idx = idx_of_state"
   ]
  },
  {
   "cell_type": "markdown",
   "id": "9e4c044d",
   "metadata": {},
   "source": [
    "The actions in the grid are also assigned unique IDs, here the sources are sorted in order. The IDs are output via the function `GetActionIds()`."
   ]
  },
  {
   "cell_type": "code",
   "execution_count": null,
   "id": "6311cdfe",
   "metadata": {},
   "outputs": [],
   "source": [
    "GetActionIds(S5_L15)"
   ]
  },
  {
   "cell_type": "code",
   "execution_count": null,
   "id": "bb4503c2",
   "metadata": {},
   "outputs": [],
   "source": []
  }
 ],
 "metadata": {
  "@webio": {
   "lastCommId": null,
   "lastKernelId": null
  },
  "kernelspec": {
   "display_name": "Julia 1.8.3",
   "language": "julia",
   "name": "julia-1.8"
  },
  "language_info": {
   "file_extension": ".jl",
   "mimetype": "application/julia",
   "name": "julia",
   "version": "1.8.3"
  }
 },
 "nbformat": 4,
 "nbformat_minor": 5
}
