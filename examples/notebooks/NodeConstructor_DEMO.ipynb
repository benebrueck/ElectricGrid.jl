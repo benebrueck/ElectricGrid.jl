{
 "cells": [
  {
   "cell_type": "markdown",
   "id": "1aa1010c",
   "metadata": {},
   "source": [
    "# NodeConstructor Demo"
   ]
  },
  {
   "cell_type": "markdown",
   "id": "22d57658",
   "metadata": {},
   "source": [
    "This notebook is intended to show the functionality of the NodeConstructor. The custom structure is used to generate the ODE system of a energy grid. The grid can ether be externally specified or randomly generated. The goal is then to create the grid given the parameters of the objects within and generate the ODEs, which will then be output in the state space representation and can be solved using `lsim()` within the ControlSystems ([Source](https://juliacontrol.github.io/ControlSystems.jl/latest/man/creating_systems/#ss-Creating-State-Space-Systems))."
   ]
  },
  {
   "cell_type": "code",
   "execution_count": null,
   "id": "08e01153",
   "metadata": {},
   "outputs": [],
   "source": [
    "using Dare\n",
    "\n",
    "\n",
    "using ControlSystems\n",
    "using JSON\n",
    "using PlotlyJS\n",
    "using LinearAlgebra"
   ]
  },
  {
   "cell_type": "markdown",
   "id": "1eabf77a",
   "metadata": {},
   "source": [
    "## Step by step guide for the construction of a simple grid"
   ]
  },
  {
   "cell_type": "markdown",
   "id": "35c5c9a7",
   "metadata": {},
   "source": [
    "In this example, the goal is to build a simple node. The individual parameters of the NodeConstructor function are explained in detail in order to get a good intuition for the underlying functionalities."
   ]
  },
  {
   "cell_type": "markdown",
   "id": "697dede9",
   "metadata": {},
   "source": [
    "### Connection Matrix"
   ]
  },
  {
   "cell_type": "markdown",
   "id": "5b644aa3",
   "metadata": {},
   "source": [
    "One of the core elements of the NodeConstructor is the Connection Matrix (CM). It specifies how the elements of the node are connected. Possible elements that can appear in such a network are on the one hand sources, on the other hand loads. If we want to create a node with two sources and one load, the corresponding CM matrix could looks like this:"
   ]
  },
  {
   "cell_type": "code",
   "execution_count": null,
   "id": "937a199a",
   "metadata": {},
   "outputs": [],
   "source": [
    "CM = [ 0  0  1\n",
    "       0  0  2\n",
    "      -1 -2  0];"
   ]
  },
  {
   "cell_type": "markdown",
   "id": "822ae85f",
   "metadata": {},
   "source": [
    "An entry in the CM reads as follows: Element x (row) is connected to element y (column) via connection line z.\n",
    "\n",
    "x ---z---> y\n",
    "\n",
    "The rows and columns are arranged in such a way that first only sources and then only loads are noted. For this example we need 2 sources and 1 load, so the following is a CM of size 3x3. The connection from the first source to the load is then marked by the entry \"1\" in `CM[1,3]`. We can read this as: The first source is connected to the load via cable one. For the second source the same applies with the entry \"2\" in `CM[2,3]`. Since a source and neither a load cannot be connected to itself, there are zeros on the main diagonal.\n",
    "\n",
    "The matrix is always antisymmetrical, therefore the same entries are found on the opposing diagonal, but with a negative sign. We can interpret the signs as assumed current direction."
   ]
  },
  {
   "cell_type": "markdown",
   "id": "6f0148ee",
   "metadata": {},
   "source": [
    "## Parameter Dict"
   ]
  },
  {
   "cell_type": "markdown",
   "id": "0d5f51d6",
   "metadata": {},
   "source": [
    "Next, we want to set the parameters of our elements.\n",
    "\n",
    "The sources differ in the various filter types. Currently, one can decide between L, LC and LCL filters. We use two LCL filters. The parameters of a source are then stored in a dict:"
   ]
  },
  {
   "cell_type": "code",
   "execution_count": null,
   "id": "bcdcb123",
   "metadata": {},
   "outputs": [],
   "source": [
    "source = Dict()\n",
    "\n",
    "source[\"fltr\"] = \"LCL\"\n",
    "source[\"R1\"] = 0.4\n",
    "source[\"R2\"] = 0.4\n",
    "source[\"R_C\"] = 0.4\n",
    "source[\"L1\"] = 2.3e-3\n",
    "source[\"L2\"] = 2.3e-3\n",
    "source[\"C\"] = 10e-6;"
   ]
  },
  {
   "cell_type": "markdown",
   "id": "8db7a7a0",
   "metadata": {},
   "source": [
    "We get a separate dict for each source, which are then stored in a list."
   ]
  },
  {
   "cell_type": "code",
   "execution_count": null,
   "id": "0c20dffc",
   "metadata": {},
   "outputs": [],
   "source": [
    "source_list = []\n",
    "push!(source_list, source, source);"
   ]
  },
  {
   "cell_type": "code",
   "execution_count": null,
   "id": "808e40cb",
   "metadata": {},
   "outputs": [],
   "source": [
    "source_list"
   ]
  },
  {
   "cell_type": "markdown",
   "id": "9ca3a18f",
   "metadata": {},
   "source": [
    "Also for the load a dict must be created in which the parameters are defined. Currently, resistive, inductive and capacitive loads as well as all combinations of these types can be created. The loads are then also gathered in a list."
   ]
  },
  {
   "cell_type": "code",
   "execution_count": null,
   "id": "c7a6d37b",
   "metadata": {},
   "outputs": [],
   "source": [
    "load = Dict()\n",
    "load[\"impedance\"] = \"R\"\n",
    "load[\"R\"] = 14;\n",
    "\n",
    "load_list = []\n",
    "push!(load_list, load);"
   ]
  },
  {
   "cell_type": "markdown",
   "id": "1576a1a9",
   "metadata": {},
   "source": [
    "And the same also for the cables in the network."
   ]
  },
  {
   "cell_type": "code",
   "execution_count": null,
   "id": "30a9b118",
   "metadata": {},
   "outputs": [],
   "source": [
    "cable_list = []\n",
    "\n",
    "cable = Dict()\n",
    "cable[\"R\"] = 0.4\n",
    "cable[\"L\"] = 2.3e-3\n",
    "cable[\"C\"] = 1e-20;\n",
    "\n",
    "push!(cable_list, cable, cable);"
   ]
  },
  {
   "cell_type": "markdown",
   "id": "a3dffd85",
   "metadata": {},
   "source": [
    "The individual lists are then collected again in a parameter dict."
   ]
  },
  {
   "cell_type": "code",
   "execution_count": null,
   "id": "63690d8b",
   "metadata": {},
   "outputs": [],
   "source": [
    "parameters = Dict()\n",
    "\n",
    "parameters[\"source\"] = source_list\n",
    "parameters[\"cable\"] = cable_list\n",
    "parameters[\"load\"] = load_list;"
   ]
  },
  {
   "cell_type": "markdown",
   "id": "a042cd70",
   "metadata": {},
   "source": [
    "The number of phases, the sampling frequency and the mains voltage, for example, can also be specified as additional hyperparameters."
   ]
  },
  {
   "cell_type": "code",
   "execution_count": null,
   "id": "2ab1ed0c",
   "metadata": {},
   "outputs": [],
   "source": [
    "grid_properties = Dict()\n",
    "grid_properties[\"fs\"] =  10e3\n",
    "grid_properties[\"v_rms\"] = 230\n",
    "grid_properties[\"phase\"] = 1;"
   ]
  },
  {
   "cell_type": "markdown",
   "id": "eef63d00",
   "metadata": {},
   "source": [
    "We add this to the overall parameters."
   ]
  },
  {
   "cell_type": "code",
   "execution_count": null,
   "id": "736b1c58",
   "metadata": {},
   "outputs": [],
   "source": [
    "parameters[\"grid\"] = grid_properties"
   ]
  },
  {
   "cell_type": "markdown",
   "id": "0280c359",
   "metadata": {},
   "source": [
    "## The NodeConstructor"
   ]
  },
  {
   "cell_type": "markdown",
   "id": "122cad66",
   "metadata": {},
   "source": [
    "Now a network defined by us can be created. Important here: The number of sources and loads must be passed as parameters!"
   ]
  },
  {
   "cell_type": "code",
   "execution_count": null,
   "id": "b983b1c9",
   "metadata": {},
   "outputs": [],
   "source": [
    "S2_L1 = NodeConstructor(num_sources=2, num_loads=1, CM=CM, parameters=parameters);"
   ]
  },
  {
   "cell_type": "markdown",
   "id": "70324bfa",
   "metadata": {},
   "source": [
    "With the function `draw_graph()` the topology of the grid can now be displayed. Here, the color orange corresponds to a source and the color blue corresponds to a load."
   ]
  },
  {
   "cell_type": "code",
   "execution_count": null,
   "id": "0dfea61e",
   "metadata": {},
   "outputs": [],
   "source": [
    "draw_graph(S2_L1)"
   ]
  },
  {
   "cell_type": "markdown",
   "id": "84112f3f",
   "metadata": {},
   "source": [
    "After the grid has been created it can be passed to the function `get_sys()`, which then returns the matrices for the state space representation in the continous time domain."
   ]
  },
  {
   "cell_type": "code",
   "execution_count": null,
   "id": "d32b4cfa",
   "metadata": {},
   "outputs": [],
   "source": [
    "A, B, C, D = get_sys(S2_L1);"
   ]
  },
  {
   "cell_type": "markdown",
   "id": "4a4820db",
   "metadata": {},
   "source": [
    "We convert the matrices into the discrete time domain and create a discrete StateSpace object with the help of `ControlSystems`. This object can then represent the dynamics of the system for a given time interval using the function `lsim()`."
   ]
  },
  {
   "cell_type": "code",
   "execution_count": null,
   "id": "2bbbfcb5",
   "metadata": {},
   "outputs": [],
   "source": [
    "ts = 1e-5\n",
    "Ad = exp(A*ts)\n",
    "Bd = A \\ (Ad - C) * B\n",
    "sys_d = StateSpace(Ad, Bd, C, D, ts);"
   ]
  },
  {
   "cell_type": "markdown",
   "id": "a9d76899",
   "metadata": {},
   "source": [
    "To use `lsim()` you need defined initial states `x0`, a time vector `t` and a input signal `u`. In our case we apply a jump to 250 V to the system."
   ]
  },
  {
   "cell_type": "code",
   "execution_count": null,
   "id": "6560be47",
   "metadata": {},
   "outputs": [],
   "source": [
    "ns = length(A[1,:]) # get num of states\n",
    "ni = length(B[1,:]) # get num of inputs\n",
    "t = collect(0:ts:0.1)\n",
    "x0 = [0.0 for i = 1:ns]\n",
    "u = [250.0 for i = 1:length(t)]\n",
    "uu = [u for i = 1:ni ]\n",
    "uuu = mapreduce(permutedims, vcat, uu);"
   ]
  },
  {
   "cell_type": "markdown",
   "id": "b5e40cc1",
   "metadata": {},
   "source": [
    "`lsim()` now solves the difference equations for the given time steps and we can observe how the states evolve."
   ]
  },
  {
   "cell_type": "code",
   "execution_count": null,
   "id": "27941a42",
   "metadata": {},
   "outputs": [],
   "source": [
    "xout, _, _, _ = lsim(sys_d,uuu,t,x0=x0);"
   ]
  },
  {
   "cell_type": "markdown",
   "id": "24fd6961",
   "metadata": {},
   "source": [
    "Here we plot the voltage across the capacitor in the first source."
   ]
  },
  {
   "cell_type": "code",
   "execution_count": null,
   "id": "ae32b333",
   "metadata": {},
   "outputs": [],
   "source": [
    "layout = Layout(xaxis_title=\"Time in µs\", yaxis_title=\"v_C / V\")\n",
    "p = plot(t, xout[2,:], layout)"
   ]
  },
  {
   "cell_type": "markdown",
   "id": "a6c7be65",
   "metadata": {},
   "source": [
    "## Automatic generation of the grids"
   ]
  },
  {
   "cell_type": "markdown",
   "id": "d86d2d3e",
   "metadata": {},
   "source": [
    "An important feature is the creation of random node structures, where the parameters of the elements are chosen randomly. For fully connected structures, this can be generated, for example, using the parameters `S2S_p`, `L2L_p` and `S2L_p`. These indicate the connection probability of a source/load with any other source/load. If these parameters are set to 1, a fully connected node is generated."
   ]
  },
  {
   "cell_type": "code",
   "execution_count": null,
   "id": "856b41db",
   "metadata": {
    "scrolled": true
   },
   "outputs": [],
   "source": [
    "S2_L2_FC = NodeConstructor(num_sources=2, num_loads=2, S2S_p=1, S2L_p=1);"
   ]
  },
  {
   "cell_type": "markdown",
   "id": "fdba3e51",
   "metadata": {},
   "source": [
    "Let's check the CM matrix."
   ]
  },
  {
   "cell_type": "code",
   "execution_count": null,
   "id": "4b727ee6",
   "metadata": {},
   "outputs": [],
   "source": [
    "S2_L2_FC.CM"
   ]
  },
  {
   "cell_type": "markdown",
   "id": "be551e90",
   "metadata": {},
   "source": [
    "With a look into the parameter dict we also see that the parameters of the individual elements were randomly generated. The current policy for the sources is that an LC filter is always taken and the other filter types are chosen randomly."
   ]
  },
  {
   "cell_type": "code",
   "execution_count": null,
   "id": "359aba05",
   "metadata": {},
   "outputs": [],
   "source": [
    "S2_L2_FC.parameters[\"source\"]"
   ]
  },
  {
   "cell_type": "markdown",
   "id": "65d4b92e",
   "metadata": {},
   "source": [
    "For larger networks, of course, only the number of sources and loads can be handed over, so that the network structures are created on the basis of the default values. An important point here is that it is ensured that no subnets are created. By default, it is ensured that each element of the network has at least one connection to the other components of the network, so that no subnetworks are created.\n",
    "\n",
    "Internally, this is done by checking for connections for each element. If these are not present, they are automatically created. For smaller networks it is advisable to specify a CM matrix, because otherwise usually too many connections are made than necessary. However, this is no longer noticeable with more than 10+ elements."
   ]
  },
  {
   "cell_type": "code",
   "execution_count": null,
   "id": "f66105c5",
   "metadata": {},
   "outputs": [],
   "source": [
    "S5_L15 = NodeConstructor(num_sources=5, num_loads=15);"
   ]
  },
  {
   "cell_type": "markdown",
   "id": "ac00ae85",
   "metadata": {},
   "source": [
    "## Three-phase simulation"
   ]
  },
  {
   "cell_type": "markdown",
   "id": "7a33f4b0",
   "metadata": {},
   "source": [
    "Until now, only single-phase grids have been created with NodeConstructor. However, the default value for the number of phases is 3, so we will now also consider the three-phase variant."
   ]
  },
  {
   "cell_type": "code",
   "execution_count": null,
   "id": "fe8f5597",
   "metadata": {},
   "outputs": [],
   "source": [
    "S5_L15 = NodeConstructor(num_sources=1, num_loads=1);"
   ]
  },
  {
   "cell_type": "code",
   "execution_count": null,
   "id": "81b0cdf7",
   "metadata": {},
   "outputs": [],
   "source": [
    "S5_L15.parameters[\"grid\"][\"phase\"]"
   ]
  },
  {
   "cell_type": "code",
   "execution_count": null,
   "id": "d729c3d6",
   "metadata": {},
   "outputs": [],
   "source": [
    "A, B, C, D = get_sys(S5_L15)\n",
    "ts = 1e-4\n",
    "Ad = exp(A*ts)\n",
    "Bd = A \\ (Ad - C) * B\n",
    "sys_d = StateSpace(Ad, Bd, C, D, ts);"
   ]
  },
  {
   "cell_type": "markdown",
   "id": "9d155c22",
   "metadata": {},
   "source": [
    "We then collect a few useful variables and set the time horizon for the simulation."
   ]
  },
  {
   "cell_type": "code",
   "execution_count": null,
   "id": "6742eae7",
   "metadata": {},
   "outputs": [],
   "source": [
    "ns = S5_L15.num_spp  # get num of states per phase\n",
    "ni = S5_L15.num_sources # get num of inputs per phase\n",
    "t = collect(0:ts:1);"
   ]
  },
  {
   "cell_type": "markdown",
   "id": "25503285",
   "metadata": {},
   "source": [
    "Next we want to generate the three-phase input signals and repeat it for the number of sources:"
   ]
  },
  {
   "cell_type": "code",
   "execution_count": null,
   "id": "9a9758b7",
   "metadata": {},
   "outputs": [],
   "source": [
    "# Sin wave\n",
    "u = [230 * sin.(2*pi*t .- 2/3*pi*(i-1)) for i = 1:3]\n",
    "uu = transpose(hcat(repeat(u[1], inner=[1,ni]),repeat(u[2], inner=[1,ni]),repeat(u[3], inner=[1,ni])));"
   ]
  },
  {
   "cell_type": "code",
   "execution_count": null,
   "id": "4a2ba415",
   "metadata": {},
   "outputs": [],
   "source": [
    "# Stepfunction\n",
    "u = sqrt(2)*[230, 0, -230]\n",
    "uu = repeat(u, inner=ni) .* ones(length(t))';"
   ]
  },
  {
   "cell_type": "markdown",
   "id": "38b7c27f",
   "metadata": {},
   "source": [
    "Lets have a look:"
   ]
  },
  {
   "cell_type": "code",
   "execution_count": null,
   "id": "398e536e",
   "metadata": {},
   "outputs": [],
   "source": [
    "layout = Layout(xaxis_title=\"Time in µs\", yaxis_title=\"U in V\")\n",
    "input = 1\n",
    "\n",
    "phase_a = scatter(x=t, y=uu[input+ni*0,:], mode=\"lines\", name=\"Phase A\")\n",
    "phase_b = scatter(x=t, y=uu[input+ni*1,:], mode=\"lines\", name=\"Phase B\")\n",
    "phase_c = scatter(x=t, y=uu[input+ni*2,:], mode=\"lines\", name=\"Phase C\")\n",
    "\n",
    "plot([phase_a, phase_b, phase_c], layout)"
   ]
  },
  {
   "cell_type": "markdown",
   "id": "d6cec2be",
   "metadata": {},
   "source": [
    "Again, the discretized matrices can now be used to model the grid."
   ]
  },
  {
   "cell_type": "code",
   "execution_count": null,
   "id": "c4f34ffc",
   "metadata": {},
   "outputs": [],
   "source": [
    "x0 = [0.0 for i = 1:ns*3]\n",
    "xout, _, _, _ = lsim(sys_d,uu,t,x0=x0);"
   ]
  },
  {
   "cell_type": "markdown",
   "id": "8fb97bff",
   "metadata": {},
   "source": [
    "Now a state can be selected and the corresponding trajectories can be plotted."
   ]
  },
  {
   "cell_type": "code",
   "execution_count": null,
   "id": "5ac6268d",
   "metadata": {},
   "outputs": [],
   "source": [
    "state_list = get_state_ids(S5_L15)"
   ]
  },
  {
   "cell_type": "code",
   "execution_count": null,
   "id": "50497cac",
   "metadata": {},
   "outputs": [],
   "source": [
    "state = 2\n",
    "state_list = get_state_ids(S5_L15)\n",
    "\n",
    "layout = Layout(xaxis_title=\"Time in µs\", yaxis_title=\"$(state_list[state]) in V\")\n",
    "\n",
    "phase_a = scatter(x=t, y=xout[state+ns*0,:], mode=\"lines\", name=\"Phase A\")\n",
    "phase_b = scatter(x=t, y=xout[state+ns*1,:], mode=\"lines\", name=\"Phase B\")\n",
    "phase_c = scatter(x=t, y=xout[state+ns*2,:], mode=\"lines\", name=\"Phase C\")\n",
    "\n",
    "plot([phase_a, phase_b, phase_c], layout)\n"
   ]
  },
  {
   "cell_type": "markdown",
   "id": "2ac99a0c",
   "metadata": {},
   "source": [
    "A way to get the different states of our NodeConstructor is to use the function `get_state_ids()`."
   ]
  },
  {
   "cell_type": "code",
   "execution_count": null,
   "id": "1410bd96",
   "metadata": {},
   "outputs": [],
   "source": [
    "state_list = get_state_ids(S5_L15)"
   ]
  },
  {
   "cell_type": "markdown",
   "id": "a8f3115f",
   "metadata": {},
   "source": [
    "The IDs created here are unique and can be used to access particular states. When creating the IDs, the sources are checked first in the order LCL, LC and then L. Then the cables are listed, which are also arranged in order. For the loads the order is RLC, LC, RL, L, RC, C and then R.\n",
    "\n",
    "For the three-phase case, the state IDs are repeated and the respective phase is added.\n",
    "\n",
    "These can then be accessed as follows:"
   ]
  },
  {
   "cell_type": "code",
   "execution_count": null,
   "id": "16cb151a",
   "metadata": {},
   "outputs": [],
   "source": [
    "state = 3\n",
    "println(state_list[state+ns*0])\n",
    "println(state_list[state+ns*1])\n",
    "println(state_list[state+ns*2])"
   ]
  },
  {
   "cell_type": "markdown",
   "id": "7df87a77",
   "metadata": {},
   "source": [
    "Or:"
   ]
  },
  {
   "cell_type": "code",
   "execution_count": null,
   "id": "3bad98ee",
   "metadata": {},
   "outputs": [],
   "source": [
    "state = \"source1_i_L1\"\n",
    "idx_of_state = findall(x->occursin(state, x), state_list)\n",
    "idx = idx_of_state"
   ]
  },
  {
   "cell_type": "code",
   "execution_count": null,
   "id": "18ac1c00",
   "metadata": {},
   "outputs": [],
   "source": [
    "state = \"source1_i_L1_a\"\n",
    "idx_of_state = findall(x->occursin(state, x), state_list)\n",
    "idx = idx_of_state"
   ]
  },
  {
   "cell_type": "markdown",
   "id": "9e4c044d",
   "metadata": {},
   "source": [
    "The actions in the grid are also assigned unique IDs, here the sources are sorted in order. The IDs are output via the function `get_action_ids()`."
   ]
  },
  {
   "cell_type": "code",
   "execution_count": null,
   "id": "6311cdfe",
   "metadata": {},
   "outputs": [],
   "source": [
    "get_action_ids(S5_L15)"
   ]
  },
  {
   "cell_type": "code",
   "execution_count": null,
   "id": "bb4503c2",
   "metadata": {},
   "outputs": [],
   "source": []
  }
 ],
 "metadata": {
  "@webio": {
   "lastCommId": null,
   "lastKernelId": null
  },
  "kernelspec": {
   "display_name": "Julia 1.8.3",
   "language": "julia",
   "name": "julia-1.8"
  },
  "language_info": {
   "file_extension": ".jl",
   "mimetype": "application/julia",
   "name": "julia",
   "version": "1.8.3"
  }
 },
 "nbformat": 4,
 "nbformat_minor": 5
}
