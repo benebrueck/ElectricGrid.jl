{
 "cells": [
  {
   "cell_type": "markdown",
   "metadata": {},
   "source": [
    "# __Classical Controllers Introduction__"
   ]
  },
  {
   "cell_type": "markdown",
   "metadata": {},
   "source": [
    "# Swing Source - Infinite Bus\n",
    "\n",
    "- This example is intended to introduce you to the simplest control mode available \"open-loop\" control. \n",
    "- One source, a pure voltage source, that is generating an AC signal while connected to a static load through a cable.\n",
    "- Plotting of electrical quantities will be shown.\n",
    "- We'll be using quite a lot of default parameters untouched"
   ]
  },
  {
   "cell_type": "code",
   "execution_count": 1,
   "metadata": {},
   "outputs": [],
   "source": [
    "using Dare"
   ]
  },
  {
   "cell_type": "markdown",
   "metadata": {},
   "source": [
    "_______________________________________________________________________________\n",
    "### Network Configuration \n",
    "\n",
    "- First we have to define the size of the load"
   ]
  },
  {
   "cell_type": "code",
   "execution_count": null,
   "metadata": {},
   "outputs": [],
   "source": [
    "R_load, L_load, X, Z = Parallel_Load_Impedance(50e3, 0.85, 230)"
   ]
  },
  {
   "cell_type": "code",
   "execution_count": 2,
   "metadata": {},
   "outputs": [
    {
     "data": {
      "text/plain": [
       "Dict{Any, Any} with 3 entries:\n",
       "  \"source\" => Any[Dict{Any, Any}(\"pwr\"=>100000.0)]\n",
       "  \"load\"   => Any[Dict{Any, Any}(\"L\"=>0.0179048, \"R\"=>0.801515, \"impedance\"=>\"R…\n",
       "  \"cable\"  => Any[Dict{Any, Any}(\"C\"=>1.0e-5, \"L\"=>0.00025, \"R\"=>0.1)]"
      ]
     },
     "metadata": {},
     "output_type": "display_data"
    }
   ],
   "source": [
    "# total run time, seconds\n",
    "t_end = 0.8     \n",
    "\n",
    "# Connectivity Matrix\n",
    "CM = [ 0. 1.\n",
    "        -1. 0.]     \n",
    "\n",
    "parameters = Dict{Any, Any}(\n",
    "        \"source\" => Any[\n",
    "                        Dict{Any, Any}(\"pwr\"   => 100e3,\n",
    "                                        \"mode\" => \"Swing\"),\n",
    "                        ],\n",
    "        \"load\"   => Any[\n",
    "                        Dict{Any, Any}(\"impedance\" => \"RL\", \n",
    "                                        \"R\" => R_load, \n",
    "                                        \"L\" => L_load),\n",
    "                        ],\n",
    "        \"cable\"   => Any[\n",
    "                        Dict{Any, Any}(\"R\" => 0.1, \n",
    "                                        \"L\" => 0.25e-3, \n",
    "                                        \"C\" => 0.1e-4),\n",
    "                        ],\n",
    "    )"
   ]
  },
  {
   "cell_type": "markdown",
   "metadata": {},
   "source": [
    "_______________________________________________________________________________\n",
    "###  Defining the environment"
   ]
  },
  {
   "cell_type": "code",
   "execution_count": 12,
   "metadata": {},
   "outputs": [
    {
     "name": "stderr",
     "output_type": "stream",
     "text": [
      "┌ Warning: No LC filter defined/set random, if wanted please set in parameter\n",
      "│                     dict!\n",
      "└ @ Dare c:\\Users\\SeptimusBoshoff\\OneDrive - Power System Dynamics\\Documents\\Doctor of Philosophy\\Paderborn Projects\\DARE\\dare\\src\\nodeconstructor.jl:617\n"
     ]
    }
   ],
   "source": [
    "env = SimEnv(CM = CM, parameters = parameters, t_end = t_end);"
   ]
  },
  {
   "cell_type": "markdown",
   "metadata": {},
   "source": [
    "_______________________________________________________________________________\n",
    "### Initialising the agents "
   ]
  },
  {
   "cell_type": "code",
   "execution_count": 13,
   "metadata": {},
   "outputs": [
    {
     "name": "stderr",
     "output_type": "stream",
     "text": [
      "┌ Warning: High-order transfer functions are highly sensitive to numerical errors. The result may be inaccurate. Consider making use of statespace systems instead\n",
      "└ @ ControlSystemsBase C:\\Users\\SeptimusBoshoff\\.julia\\packages\\ControlSystemsBase\\OcdyV\\src\\types\\SisoTfTypes\\SisoRational.jl:12\n"
     ]
    }
   ],
   "source": [
    "Multi_Agent = setup_agents(env);"
   ]
  },
  {
   "cell_type": "markdown",
   "metadata": {},
   "source": [
    "### running the time simulation "
   ]
  },
  {
   "cell_type": "code",
   "execution_count": 14,
   "metadata": {},
   "outputs": [],
   "source": [
    "hook = simulate(Multi_Agent, env);"
   ]
  },
  {
   "cell_type": "markdown",
   "metadata": {},
   "source": [
    "### Plotting"
   ]
  },
  {
   "cell_type": "code",
   "execution_count": 15,
   "metadata": {},
   "outputs": [],
   "source": [
    "plot_hook_results(hook = hook, \n",
    "                    states_to_plot  = [], \n",
    "                    actions_to_plot = [],  \n",
    "                    power_p         = [1 2], \n",
    "                    power_q         = [1 2], \n",
    "                    v_mag           = [1 2], \n",
    "                    i_mag           = [],\n",
    "                    freq            = [1 2],\n",
    "                    angles          = [1 2]);"
   ]
  },
  {
   "cell_type": "code",
   "execution_count": null,
   "metadata": {},
   "outputs": [],
   "source": []
  }
 ],
 "metadata": {
  "kernelspec": {
   "display_name": "Julia 1.8.2",
   "language": "julia",
   "name": "julia-1.8"
  },
  "language_info": {
   "file_extension": ".jl",
   "mimetype": "application/julia",
   "name": "julia",
   "version": "1.8.5"
  },
  "vscode": {
   "interpreter": {
    "hash": "77fa586337b96eece9c55e46754526368717afeb3fb3c8ebd1dc061a7e168173"
   }
  }
 },
 "nbformat": 4,
 "nbformat_minor": 2
}
